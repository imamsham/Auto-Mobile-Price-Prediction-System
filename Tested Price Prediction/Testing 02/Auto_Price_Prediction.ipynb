{
 "cells": [
  {
   "cell_type": "markdown",
   "id": "3e9fc62a",
   "metadata": {},
   "source": [
    "# Auto_Price_Prediction - ML Model\n",
    "-----------------------------\n",
    "- Unversity of Solent : \n",
    "- BSc Final year Project :\n",
    "- M.A.M Imamdeen"
   ]
  },
  {
   "cell_type": "code",
   "execution_count": 7,
   "id": "eb234442",
   "metadata": {},
   "outputs": [],
   "source": [
    "import pandas as pd\n",
    "import numpy as np\n",
    "import  matplotlib.pyplot as plt\n",
    "import seaborn as sns\n",
    "import sklearn\n",
    "import pickle\n",
    "\n",
    "from sklearn.linear_model import LinearRegression\n",
    "from sklearn.compose import make_column_transformer\n",
    "from sklearn.pipeline import make_pipeline\n",
    "from sklearn.metrics import r2_score\n",
    "from sklearn.preprocessing import OneHotEncoder\n",
    "\n",
    "from sklearn.model_selection import train_test_split\n",
    "from sklearn.metrics import mean_squared_error as MSE\n",
    "\n",
    "%matplotlib inline\n",
    "\n",
    "import warnings\n",
    "warnings.filterwarnings(\"ignore\")"
   ]
  },
  {
   "cell_type": "markdown",
   "id": "a870f20d",
   "metadata": {},
   "source": [
    "# Reading and Displaying the dataset"
   ]
  },
  {
   "cell_type": "code",
   "execution_count": 2,
   "id": "ddbf703c",
   "metadata": {},
   "outputs": [
    {
     "data": {
      "text/html": [
       "<div>\n",
       "<style scoped>\n",
       "    .dataframe tbody tr th:only-of-type {\n",
       "        vertical-align: middle;\n",
       "    }\n",
       "\n",
       "    .dataframe tbody tr th {\n",
       "        vertical-align: top;\n",
       "    }\n",
       "\n",
       "    .dataframe thead th {\n",
       "        text-align: right;\n",
       "    }\n",
       "</style>\n",
       "<table border=\"1\" class=\"dataframe\">\n",
       "  <thead>\n",
       "    <tr style=\"text-align: right;\">\n",
       "      <th></th>\n",
       "      <th>name</th>\n",
       "      <th>company</th>\n",
       "      <th>year</th>\n",
       "      <th>Price</th>\n",
       "      <th>kms_driven</th>\n",
       "      <th>fuel_type</th>\n",
       "    </tr>\n",
       "  </thead>\n",
       "  <tbody>\n",
       "    <tr>\n",
       "      <th>0</th>\n",
       "      <td>Toyota</td>\n",
       "      <td>Allion</td>\n",
       "      <td>2018</td>\n",
       "      <td>9300000</td>\n",
       "      <td>8000</td>\n",
       "      <td>Petrol</td>\n",
       "    </tr>\n",
       "    <tr>\n",
       "      <th>1</th>\n",
       "      <td>Toyota</td>\n",
       "      <td>Allion</td>\n",
       "      <td>2018</td>\n",
       "      <td>9890000</td>\n",
       "      <td>9875</td>\n",
       "      <td>Petrol</td>\n",
       "    </tr>\n",
       "    <tr>\n",
       "      <th>2</th>\n",
       "      <td>Toyota</td>\n",
       "      <td>Allion</td>\n",
       "      <td>2018</td>\n",
       "      <td>9850000</td>\n",
       "      <td>10907</td>\n",
       "      <td>Petrol</td>\n",
       "    </tr>\n",
       "    <tr>\n",
       "      <th>3</th>\n",
       "      <td>Toyota</td>\n",
       "      <td>Allion</td>\n",
       "      <td>2008</td>\n",
       "      <td>4885000</td>\n",
       "      <td>13000</td>\n",
       "      <td>Petrol</td>\n",
       "    </tr>\n",
       "    <tr>\n",
       "      <th>4</th>\n",
       "      <td>Toyota</td>\n",
       "      <td>Allion</td>\n",
       "      <td>2017</td>\n",
       "      <td>8000000</td>\n",
       "      <td>22300</td>\n",
       "      <td>Petrol</td>\n",
       "    </tr>\n",
       "    <tr>\n",
       "      <th>...</th>\n",
       "      <td>...</td>\n",
       "      <td>...</td>\n",
       "      <td>...</td>\n",
       "      <td>...</td>\n",
       "      <td>...</td>\n",
       "      <td>...</td>\n",
       "    </tr>\n",
       "    <tr>\n",
       "      <th>1494</th>\n",
       "      <td>Toyota</td>\n",
       "      <td>Vitz</td>\n",
       "      <td>2007</td>\n",
       "      <td>4350000</td>\n",
       "      <td>112000</td>\n",
       "      <td>Petrol</td>\n",
       "    </tr>\n",
       "    <tr>\n",
       "      <th>1495</th>\n",
       "      <td>Toyota</td>\n",
       "      <td>Vitz</td>\n",
       "      <td>2008</td>\n",
       "      <td>4550000</td>\n",
       "      <td>112000</td>\n",
       "      <td>Petrol</td>\n",
       "    </tr>\n",
       "    <tr>\n",
       "      <th>1496</th>\n",
       "      <td>Toyota</td>\n",
       "      <td>Vitz</td>\n",
       "      <td>2007</td>\n",
       "      <td>4350000</td>\n",
       "      <td>112000</td>\n",
       "      <td>Petrol</td>\n",
       "    </tr>\n",
       "    <tr>\n",
       "      <th>1497</th>\n",
       "      <td>Toyota</td>\n",
       "      <td>Vitz</td>\n",
       "      <td>2007</td>\n",
       "      <td>4350000</td>\n",
       "      <td>113000</td>\n",
       "      <td>Petrol</td>\n",
       "    </tr>\n",
       "    <tr>\n",
       "      <th>1498</th>\n",
       "      <td>Toyota</td>\n",
       "      <td>Vitz</td>\n",
       "      <td>2008</td>\n",
       "      <td>4550000</td>\n",
       "      <td>114000</td>\n",
       "      <td>Petrol</td>\n",
       "    </tr>\n",
       "  </tbody>\n",
       "</table>\n",
       "<p>1499 rows × 6 columns</p>\n",
       "</div>"
      ],
      "text/plain": [
       "        name company  year    Price  kms_driven fuel_type\n",
       "0     Toyota  Allion  2018  9300000        8000    Petrol\n",
       "1     Toyota  Allion  2018  9890000        9875    Petrol\n",
       "2     Toyota  Allion  2018  9850000       10907    Petrol\n",
       "3     Toyota  Allion  2008  4885000       13000    Petrol\n",
       "4     Toyota  Allion  2017  8000000       22300    Petrol\n",
       "...      ...     ...   ...      ...         ...       ...\n",
       "1494  Toyota    Vitz  2007  4350000      112000    Petrol\n",
       "1495  Toyota    Vitz  2008  4550000      112000    Petrol\n",
       "1496  Toyota    Vitz  2007  4350000      112000    Petrol\n",
       "1497  Toyota    Vitz  2007  4350000      113000    Petrol\n",
       "1498  Toyota    Vitz  2008  4550000      114000    Petrol\n",
       "\n",
       "[1499 rows x 6 columns]"
      ]
     },
     "execution_count": 2,
     "metadata": {},
     "output_type": "execute_result"
    }
   ],
   "source": [
    "df = pd.read_csv(\"Toyota_Vehicle_data.csv\")\n",
    "df"
   ]
  },
  {
   "cell_type": "code",
   "execution_count": 8,
   "id": "320c88cf",
   "metadata": {},
   "outputs": [
    {
     "data": {
      "text/plain": [
       "(1499, 6)"
      ]
     },
     "execution_count": 8,
     "metadata": {},
     "output_type": "execute_result"
    }
   ],
   "source": [
    "df.shape\n"
   ]
  },
  {
   "cell_type": "code",
   "execution_count": 9,
   "id": "0f3f578d",
   "metadata": {},
   "outputs": [
    {
     "name": "stdout",
     "output_type": "stream",
     "text": [
      "<class 'pandas.core.frame.DataFrame'>\n",
      "RangeIndex: 1499 entries, 0 to 1498\n",
      "Data columns (total 6 columns):\n",
      " #   Column      Non-Null Count  Dtype \n",
      "---  ------      --------------  ----- \n",
      " 0   name        1499 non-null   object\n",
      " 1   company     1499 non-null   object\n",
      " 2   year        1499 non-null   int64 \n",
      " 3   Price       1499 non-null   object\n",
      " 4   kms_driven  1499 non-null   int64 \n",
      " 5   fuel_type   1499 non-null   object\n",
      "dtypes: int64(2), object(4)\n",
      "memory usage: 70.4+ KB\n"
     ]
    }
   ],
   "source": [
    "df.info()"
   ]
  },
  {
   "cell_type": "code",
   "execution_count": 10,
   "id": "f90c1a61",
   "metadata": {},
   "outputs": [
    {
     "data": {
      "text/plain": [
       "array(['Toyota'], dtype=object)"
      ]
     },
     "execution_count": 10,
     "metadata": {},
     "output_type": "execute_result"
    }
   ],
   "source": [
    "df[\"name\"].unique()"
   ]
  },
  {
   "cell_type": "code",
   "execution_count": 11,
   "id": "e5c66ea0",
   "metadata": {},
   "outputs": [
    {
     "data": {
      "text/plain": [
       "1"
      ]
     },
     "execution_count": 11,
     "metadata": {},
     "output_type": "execute_result"
    }
   ],
   "source": [
    "df[\"name\"].nunique()"
   ]
  },
  {
   "cell_type": "markdown",
   "id": "ad86e122",
   "metadata": {},
   "source": [
    "## Anomalies found in \"name\" column:¶\n",
    "* Names are pretty inconsistent.\n",
    "* Names have company names attached to it.\n",
    "* Some names are spam like 'Maruti Ertiga showroom condition with', 'I want to sell my car Tata Zest', etc.\n",
    "* Consider first 2-3 words from the names as final name, in-order to make the categorical."
   ]
  },
  {
   "cell_type": "code",
   "execution_count": 12,
   "id": "2fcb94a1",
   "metadata": {},
   "outputs": [
    {
     "data": {
      "text/plain": [
       "array(['Allion', 'Allion ', 'Allion 240', 'Allion 260', 'Aqua',\n",
       "       'Aqua G Grade', 'Aqua G grade', 'Aqua G Sport', 'Aqua S Grade',\n",
       "       'Aqua X Urban', 'Avanza', 'Axio', 'Axio Fielder', 'Axio G Grade',\n",
       "       'Axio WXB', 'Axio X Grade', 'Belta', 'Carina', 'Corolla 110',\n",
       "       'Corolla 121', 'Corolla 141', 'Corona Premio', 'Premio',\n",
       "       'Premio 240', 'Premio 260', 'Premio G Superior', 'Prius',\n",
       "       'Prius 3rd Generation', 'Prius S Grade', 'Prius S Touring',\n",
       "       'Roomy', 'Soluna', 'soluna', 'Tank', 'Vios', 'Vitz'], dtype=object)"
      ]
     },
     "execution_count": 12,
     "metadata": {},
     "output_type": "execute_result"
    }
   ],
   "source": [
    "df[\"company\"].unique()"
   ]
  },
  {
   "cell_type": "code",
   "execution_count": 13,
   "id": "c4cfa626",
   "metadata": {},
   "outputs": [
    {
     "data": {
      "text/plain": [
       "36"
      ]
     },
     "execution_count": 13,
     "metadata": {},
     "output_type": "execute_result"
    }
   ],
   "source": [
    "df[\"company\"].nunique()"
   ]
  },
  {
   "cell_type": "markdown",
   "id": "3a3fa324",
   "metadata": {},
   "source": [
    "# Anomalies found in \"company\" column:¶¶\n",
    "* Some \"company\" names are incorrect.\n",
    "* Ex:- 'URJENT', 'Used', '7', '2012', etc"
   ]
  },
  {
   "cell_type": "code",
   "execution_count": 14,
   "id": "7161632b",
   "metadata": {},
   "outputs": [
    {
     "data": {
      "text/plain": [
       "array([2018, 2008, 2017, 2016, 2014, 2013, 2011, 2010, 2009, 2007, 2012,\n",
       "       2006, 2004, 2003, 2002, 2001, 2005, 2015, 2019, 2000, 2020],\n",
       "      dtype=int64)"
      ]
     },
     "execution_count": 14,
     "metadata": {},
     "output_type": "execute_result"
    }
   ],
   "source": [
    "df[\"year\"].unique()"
   ]
  },
  {
   "cell_type": "code",
   "execution_count": 15,
   "id": "c31aa40f",
   "metadata": {},
   "outputs": [
    {
     "data": {
      "text/plain": [
       "21"
      ]
     },
     "execution_count": 15,
     "metadata": {},
     "output_type": "execute_result"
    }
   ],
   "source": [
    "df[\"year\"].nunique()"
   ]
  },
  {
   "cell_type": "markdown",
   "id": "e29f2391",
   "metadata": {},
   "source": [
    "# #Anomalies found in \"year\" column:¶¶\n",
    "* Many garbage/non-year values are present.\n",
    "* Had to convert the dtype of the \"year\" column from object to int64."
   ]
  },
  {
   "cell_type": "code",
   "execution_count": 16,
   "id": "babfc052",
   "metadata": {},
   "outputs": [
    {
     "data": {
      "text/plain": [
       "array(['9300000', '9890000', '9850000', '4885000', '8000000', '7675000',\n",
       "       '7900000', '7000000', '11,000,000', '13000000', '14500000',\n",
       "       '11500000', '9700000', '11250000', '8250000', '8100000', '8800000',\n",
       "       '7950000', '9500000', '7350000', '7100000', '7300000', '7290000',\n",
       "       '7250000', '8400000', '7500000', '9100000', '6100000', '8600000',\n",
       "       '7650000', '7750000', '6950000', '5575000', '5275000', '7225000',\n",
       "       '5150000', '5850000', '4900000', '5900000', '8225000', '6400000',\n",
       "       '7800000', '6200000', '7400000', '9000000', '4500000', '6500000',\n",
       "       '6300000', '5800000', '5500000', '6000000', '5200000', '5350000',\n",
       "       '5100000', '8200000', '6900000', '7390000', '9200000', '6350000',\n",
       "       '7600000', '6990000', '6750000', '8575000', '6600000', '8500000',\n",
       "       '5650000', '8950000', '5600000', '4975000', '7475000', '6195000',\n",
       "       '4875000', '6250000', '5950000', '7200000', '7490000', '5125000',\n",
       "       '5700000', '4700000', '4950000', '11450000', '8300000', '8550000',\n",
       "       '5975000', '6775000', '5750000', '8450000', '6975000', '5775000',\n",
       "       '1050000', '8900000', '7090000', '7850000', '7550000', '7150000',\n",
       "       '6450000', '16500000', '15100000', '10500000', '9800000',\n",
       "       '7690000', '12100000', '8975000', '7525000', '7190000', '6175000',\n",
       "       '4990000', '4550000', '5690000', '4300000', '4075000', '3925000',\n",
       "       '3350000', '4000000', '4850000', '4250000', '3400000', '3950000',\n",
       "       '4390000', '4690000', '4675000', '5300000', '9275000', '5990000',\n",
       "       '13690000', '11690000', '20450000', '22100000', '13975000',\n",
       "       '12750000', '8375000', '4800000', '7790000', '9650000', '8775000',\n",
       "       '6275000', '6190000', '7450000', '2675000', '2550000', '3000000',\n",
       "       '2995000', '8790000', '4350000', '4650000', '3990000', '5985000',\n",
       "       '4190000', '4100000', '4670000', '5375000', '6150000', '6850000',\n",
       "       '4750000', '3500000', '2500000'], dtype=object)"
      ]
     },
     "execution_count": 16,
     "metadata": {},
     "output_type": "execute_result"
    }
   ],
   "source": [
    "df[\"Price\"].unique()"
   ]
  },
  {
   "cell_type": "code",
   "execution_count": 17,
   "id": "182fc6dd",
   "metadata": {},
   "outputs": [
    {
     "data": {
      "text/plain": [
       "156"
      ]
     },
     "execution_count": 17,
     "metadata": {},
     "output_type": "execute_result"
    }
   ],
   "source": [
    "df[\"Price\"].nunique()"
   ]
  },
  {
   "cell_type": "code",
   "execution_count": 18,
   "id": "e1110619",
   "metadata": {},
   "outputs": [
    {
     "name": "stdout",
     "output_type": "stream",
     "text": [
      "No. of records in df with Price as \"Ask For Price\": 0\n"
     ]
    }
   ],
   "source": [
    "count = 0\n",
    "for each_price in df[\"Price\"]:\n",
    "    if each_price == \"Ask For Price\":\n",
    "        count += 1\n",
    "print(\"No. of records in df with Price as \\\"Ask For Price\\\":\", count)"
   ]
  },
  {
   "cell_type": "markdown",
   "id": "f9611e9b",
   "metadata": {},
   "source": [
    "# Anomalies found in \"Price\" column:\n",
    "* Have to look after the \"Ask for Price\" type values in the column.\n",
    "* Had to convert the dtype of the \"Price\" column from object to int64 by removing the commas in-between them."
   ]
  },
  {
   "cell_type": "code",
   "execution_count": 19,
   "id": "e9910dca",
   "metadata": {},
   "outputs": [
    {
     "data": {
      "text/plain": [
       "array([  8000,   9875,  10907,  13000,  22300,  26000,  27000,  31000,\n",
       "        34000,  41000,  47000,  49000,  54000,  56000,  60000,  71000,\n",
       "        71500,  75000,  76501,  85000,  86000,  87000,  89000,  90000,\n",
       "        90080,  92000,  92700,  93000,  96000,  97000, 100000, 102000,\n",
       "       104000, 105000, 106000, 107000, 109000, 110000, 112000, 112500,\n",
       "       113000, 115000, 116000, 117000, 118000, 120000, 121000, 124000,\n",
       "       125000, 126000, 128000, 130000, 133000, 135000, 137000, 138000,\n",
       "        95000,  99000, 102500, 107960, 122600, 127000, 132000, 143000,\n",
       "       123000, 124500, 140000, 147000, 148000, 150000, 157000, 159000,\n",
       "       160000, 174000, 183000, 190000, 200000, 230000,   5800,  15000,\n",
       "        22000,  28000,  30000,  30400,  32000,  34300,  36000,  38000,\n",
       "        38750,  39500,  40000,  40500,  42035,  43000,  44000,  45000,\n",
       "        46000,  47100,  47500,  48000,  53000,  53300,  55000,  55227,\n",
       "        55400,  57000,  58000,  60100,  62000,  62500,  63000,  63421,\n",
       "        63600,  64000,  65000,  65800,  76000,  77000,  78000,  78200,\n",
       "        79000,  80000,  80500,  81000,  81250,  81550,  82000,  82500,\n",
       "        82600,  82700,  82833,  83000,  83300,  84000,  84500,  85440,\n",
       "        88000,  88350,  88500,  89600,  90100,  91000,  94000,  94200,\n",
       "        94464,  98000,  98400,  99324, 100150, 100200, 111200, 115308,\n",
       "       119000, 144000, 145000, 153000, 166300, 182000, 220000,   7900,\n",
       "        15870,  50680,  51500,  53100,  64500,  64567,  65395,  66000,\n",
       "        67000,  68000,  69500,  74600,  98500,  99500,  50000,  53156,\n",
       "        58500,  61200,  73000,  17000,  52300,  61632,  67500,  70000,\n",
       "        77600,  83400,  87800, 144500,   9000,  29000,  35000,  40400,\n",
       "        52600,  71300,  75876,  61000,  61043,  88800, 103000, 108300,\n",
       "         1200,   3751,  10100,  11000,  15807,  19300,  19750,  23100,\n",
       "        35400,  39000,  41500,  44256,  45560,  49850,  51000,  52000,\n",
       "        54600,  58046,  59000,  59200,  63100,  68400,  69000,  72000,\n",
       "        73200,  73500,  74000,  75500,  76500,  77350,  77553,  88200,\n",
       "        92200,  97219, 166000, 178000, 235000,  60568,  90255, 108000,\n",
       "        25000,  68500,  71700,  72115,  76400,  79589,  81500,  85258,\n",
       "       142000, 146000, 158000, 170000, 194000,   4500,   5850,  12500,\n",
       "        15500,  16500,  19000,  20100,  25096,  36300,  36500,  37000,\n",
       "        42000,  47569,  48100,  51789, 121500, 122000, 128720, 141000,\n",
       "       167000,  63002,  89912,  93100, 114000, 175000, 135230, 162000,\n",
       "       180000, 180356, 201000, 213000, 225000, 285000, 340000,  87500,\n",
       "       152000, 154000, 159500, 195000, 275000, 315000, 335000,  99600,\n",
       "       105240, 111000, 134000, 135620, 139800, 140439, 151678, 152132,\n",
       "       154380, 155000, 156000, 157250, 159831, 160500, 160572, 162800,\n",
       "       164000, 165000, 168000, 169000, 175050, 177000, 179000, 287559,\n",
       "       300000, 327000, 386400,  77250,  96500, 101000, 104538, 106094,\n",
       "       114340, 117500, 130500, 136000, 149000, 161100, 163000, 193000,\n",
       "       237200, 260000, 116200, 123123, 127865, 134500, 136500, 172000,\n",
       "       205000,  88900, 198000, 210600,  11400,  89400,    500,   2000,\n",
       "         2300,   3100,   3450,   5000,   6500,   7500,   8200,  10000,\n",
       "        10200, 173564,   6000,  11800,  24191,  54475,  58200,  59966,\n",
       "        60679,  61500,  66800,  67324,  72300,  73843,  74800,  76800,\n",
       "        78650,  79002,  86200,  86500,  86789,  88794,  94008,  96526,\n",
       "       101684, 101956, 104174, 109500, 109566, 112900, 113631, 114900,\n",
       "       116736, 118400, 122586, 128578, 129000, 131000, 137871, 139000,\n",
       "       142500, 149800, 161500, 168900, 223500, 240000,  65786, 105600,\n",
       "       126306,   3000,   6940,   7200,  19650,  28500,  29854,  92813,\n",
       "       126700, 149600, 160856, 188542, 197000, 218000, 252000, 318000,\n",
       "         5300,  14654,  18990,  19850,  20000,  21500,  21786,  93500,\n",
       "        99230, 100512, 145700, 153500, 171000, 173000, 175500, 191000,\n",
       "       209263, 210000, 228000,   1000,   1300,  27350,  27584,  27860,\n",
       "        28900,  29500,  29838,  29900,  30700,  31300,  31900,  32500,\n",
       "        33000,  33400,  33500,  34028,  36900,  38800,  39900,  40950,\n",
       "        43200,  43325,  44500,  44700,  44800,  47132,  48840,  49470,\n",
       "        51900,  52496,  57500,  58907,  91500,  92158,  92500,  94025,\n",
       "        97750,  99421, 102200, 110500], dtype=int64)"
      ]
     },
     "execution_count": 19,
     "metadata": {},
     "output_type": "execute_result"
    }
   ],
   "source": [
    "df[\"kms_driven\"].unique()"
   ]
  },
  {
   "cell_type": "code",
   "execution_count": 20,
   "id": "3509da81",
   "metadata": {},
   "outputs": [
    {
     "data": {
      "text/plain": [
       "484"
      ]
     },
     "execution_count": 20,
     "metadata": {},
     "output_type": "execute_result"
    }
   ],
   "source": [
    "df[\"kms_driven\"].nunique()"
   ]
  },
  {
   "cell_type": "code",
   "execution_count": 21,
   "id": "55fb0545",
   "metadata": {},
   "outputs": [
    {
     "name": "stdout",
     "output_type": "stream",
     "text": [
      "No. of records in df with kms_driven as \"nan\": 0\n",
      "No. of records in df with kms_driven as \"Petrol\": 0\n"
     ]
    }
   ],
   "source": [
    "count = 0\n",
    "\n",
    "for each_kms in df[\"kms_driven\"]:\n",
    "    if each_kms == \"Petrol\":\n",
    "        count += 1\n",
    "        \n",
    "print(\"No. of records in df with kms_driven as \\\"nan\\\":\", df[\"kms_driven\"].isnull().sum())\n",
    "print(\"No. of records in df with kms_driven as \\\"Petrol\\\":\", count)"
   ]
  },
  {
   "cell_type": "markdown",
   "id": "6fc25881",
   "metadata": {},
   "source": [
    "# #Anomalies found in \"kms_driven\" column:\n",
    "* Had to look after the \"Petrol\" type values in the column.\n",
    "* Had to convert the dtype of the \"kms_driven\" column from object with \"kms\" in the end to int64 by removing the them."
   ]
  },
  {
   "cell_type": "code",
   "execution_count": 22,
   "id": "291438e7",
   "metadata": {},
   "outputs": [
    {
     "data": {
      "text/plain": [
       "array(['Petrol', 'Hybrid', 'Electric', 'Diesel'], dtype=object)"
      ]
     },
     "execution_count": 22,
     "metadata": {},
     "output_type": "execute_result"
    }
   ],
   "source": [
    "df[\"fuel_type\"].unique()\n"
   ]
  },
  {
   "cell_type": "code",
   "execution_count": 23,
   "id": "3b0847c0",
   "metadata": {},
   "outputs": [
    {
     "data": {
      "text/plain": [
       "4"
      ]
     },
     "execution_count": 23,
     "metadata": {},
     "output_type": "execute_result"
    }
   ],
   "source": [
    "df[\"fuel_type\"].nunique()"
   ]
  },
  {
   "cell_type": "code",
   "execution_count": 24,
   "id": "27fb2d2d",
   "metadata": {},
   "outputs": [
    {
     "name": "stdout",
     "output_type": "stream",
     "text": [
      "\"fuel_type\" column has 0 null values.\n"
     ]
    }
   ],
   "source": [
    "print(\"\\\"fuel_type\\\" column has\", df[\"fuel_type\"].isnull().sum(), \"null values.\")"
   ]
  },
  {
   "cell_type": "markdown",
   "id": "0aed3be0",
   "metadata": {},
   "source": [
    "# Data Sanity (Clearing) & Filtering"
   ]
  },
  {
   "cell_type": "markdown",
   "id": "17b9066c",
   "metadata": {},
   "source": [
    "###Data Sanity (Clearing) & Filtering\n",
    "* lumn to _int64_ type"
   ]
  },
  {
   "cell_type": "code",
   "execution_count": 25,
   "id": "b7db171c",
   "metadata": {},
   "outputs": [],
   "source": [
    "df[\"year\"] = pd.to_numeric(df[\"year\"])"
   ]
  },
  {
   "cell_type": "markdown",
   "id": "2f6bbc8d",
   "metadata": {},
   "source": [
    "### Removing all the records, having _\"Price\"_ == _\"Ask For Price\"_ "
   ]
  },
  {
   "cell_type": "code",
   "execution_count": 26,
   "id": "d19725cc",
   "metadata": {},
   "outputs": [],
   "source": [
    "df = df[df[\"Price\"] != \"Ask For Price\"]"
   ]
  },
  {
   "cell_type": "markdown",
   "id": "2105a72b",
   "metadata": {},
   "source": [
    "### Converting the \"Price\" column to pure numeric, by removing \",\" literals"
   ]
  },
  {
   "cell_type": "code",
   "execution_count": 27,
   "id": "b7e605d5",
   "metadata": {},
   "outputs": [],
   "source": [
    "df[\"Price\"] = pd.to_numeric(df[\"Price\"].str.replace(\",\", \"\"))"
   ]
  },
  {
   "cell_type": "markdown",
   "id": "f334d06a",
   "metadata": {},
   "source": [
    "### Removing _null_ records from \"fuel_type\" column"
   ]
  },
  {
   "cell_type": "code",
   "execution_count": 29,
   "id": "5c6214c8",
   "metadata": {},
   "outputs": [],
   "source": [
    "df = df[~df[\"fuel_type\"].isnull()]"
   ]
  },
  {
   "cell_type": "markdown",
   "id": "1c321f3e",
   "metadata": {},
   "source": [
    "###Considering only the first _3 words_ from the \"name\" column "
   ]
  },
  {
   "cell_type": "code",
   "execution_count": 30,
   "id": "40ac7037",
   "metadata": {},
   "outputs": [],
   "source": [
    "df[\"name\"] = df[\"name\"].str.split().str.slice(0, 3).str.join(\" \")"
   ]
  },
  {
   "cell_type": "markdown",
   "id": "f6ae1f6b",
   "metadata": {},
   "source": [
    "### Removing the _\"kms\"_ from \"kms_driven\" column and replacing \",\" literals with \"\""
   ]
  },
  {
   "cell_type": "code",
   "execution_count": null,
   "id": "839f5464",
   "metadata": {},
   "outputs": [],
   "source": []
  },
  {
   "cell_type": "markdown",
   "id": "9a1adb15",
   "metadata": {},
   "source": [
    "### Resetting the indexes of the dataframe"
   ]
  },
  {
   "cell_type": "code",
   "execution_count": 32,
   "id": "9027d7d7",
   "metadata": {},
   "outputs": [],
   "source": [
    "df = df.reset_index(drop=True)"
   ]
  },
  {
   "cell_type": "code",
   "execution_count": 33,
   "id": "5202e20c",
   "metadata": {},
   "outputs": [
    {
     "data": {
      "text/html": [
       "<div>\n",
       "<style scoped>\n",
       "    .dataframe tbody tr th:only-of-type {\n",
       "        vertical-align: middle;\n",
       "    }\n",
       "\n",
       "    .dataframe tbody tr th {\n",
       "        vertical-align: top;\n",
       "    }\n",
       "\n",
       "    .dataframe thead th {\n",
       "        text-align: right;\n",
       "    }\n",
       "</style>\n",
       "<table border=\"1\" class=\"dataframe\">\n",
       "  <thead>\n",
       "    <tr style=\"text-align: right;\">\n",
       "      <th></th>\n",
       "      <th>name</th>\n",
       "      <th>company</th>\n",
       "      <th>year</th>\n",
       "      <th>Price</th>\n",
       "      <th>kms_driven</th>\n",
       "      <th>fuel_type</th>\n",
       "    </tr>\n",
       "  </thead>\n",
       "  <tbody>\n",
       "    <tr>\n",
       "      <th>0</th>\n",
       "      <td>Toyota</td>\n",
       "      <td>Allion</td>\n",
       "      <td>2018</td>\n",
       "      <td>9300000</td>\n",
       "      <td>8000</td>\n",
       "      <td>Petrol</td>\n",
       "    </tr>\n",
       "    <tr>\n",
       "      <th>1</th>\n",
       "      <td>Toyota</td>\n",
       "      <td>Allion</td>\n",
       "      <td>2018</td>\n",
       "      <td>9890000</td>\n",
       "      <td>9875</td>\n",
       "      <td>Petrol</td>\n",
       "    </tr>\n",
       "    <tr>\n",
       "      <th>2</th>\n",
       "      <td>Toyota</td>\n",
       "      <td>Allion</td>\n",
       "      <td>2018</td>\n",
       "      <td>9850000</td>\n",
       "      <td>10907</td>\n",
       "      <td>Petrol</td>\n",
       "    </tr>\n",
       "    <tr>\n",
       "      <th>3</th>\n",
       "      <td>Toyota</td>\n",
       "      <td>Allion</td>\n",
       "      <td>2008</td>\n",
       "      <td>4885000</td>\n",
       "      <td>13000</td>\n",
       "      <td>Petrol</td>\n",
       "    </tr>\n",
       "    <tr>\n",
       "      <th>4</th>\n",
       "      <td>Toyota</td>\n",
       "      <td>Allion</td>\n",
       "      <td>2017</td>\n",
       "      <td>8000000</td>\n",
       "      <td>22300</td>\n",
       "      <td>Petrol</td>\n",
       "    </tr>\n",
       "    <tr>\n",
       "      <th>...</th>\n",
       "      <td>...</td>\n",
       "      <td>...</td>\n",
       "      <td>...</td>\n",
       "      <td>...</td>\n",
       "      <td>...</td>\n",
       "      <td>...</td>\n",
       "    </tr>\n",
       "    <tr>\n",
       "      <th>1494</th>\n",
       "      <td>Toyota</td>\n",
       "      <td>Vitz</td>\n",
       "      <td>2007</td>\n",
       "      <td>4350000</td>\n",
       "      <td>112000</td>\n",
       "      <td>Petrol</td>\n",
       "    </tr>\n",
       "    <tr>\n",
       "      <th>1495</th>\n",
       "      <td>Toyota</td>\n",
       "      <td>Vitz</td>\n",
       "      <td>2008</td>\n",
       "      <td>4550000</td>\n",
       "      <td>112000</td>\n",
       "      <td>Petrol</td>\n",
       "    </tr>\n",
       "    <tr>\n",
       "      <th>1496</th>\n",
       "      <td>Toyota</td>\n",
       "      <td>Vitz</td>\n",
       "      <td>2007</td>\n",
       "      <td>4350000</td>\n",
       "      <td>112000</td>\n",
       "      <td>Petrol</td>\n",
       "    </tr>\n",
       "    <tr>\n",
       "      <th>1497</th>\n",
       "      <td>Toyota</td>\n",
       "      <td>Vitz</td>\n",
       "      <td>2007</td>\n",
       "      <td>4350000</td>\n",
       "      <td>113000</td>\n",
       "      <td>Petrol</td>\n",
       "    </tr>\n",
       "    <tr>\n",
       "      <th>1498</th>\n",
       "      <td>Toyota</td>\n",
       "      <td>Vitz</td>\n",
       "      <td>2008</td>\n",
       "      <td>4550000</td>\n",
       "      <td>114000</td>\n",
       "      <td>Petrol</td>\n",
       "    </tr>\n",
       "  </tbody>\n",
       "</table>\n",
       "<p>1499 rows × 6 columns</p>\n",
       "</div>"
      ],
      "text/plain": [
       "        name company  year    Price  kms_driven fuel_type\n",
       "0     Toyota  Allion  2018  9300000        8000    Petrol\n",
       "1     Toyota  Allion  2018  9890000        9875    Petrol\n",
       "2     Toyota  Allion  2018  9850000       10907    Petrol\n",
       "3     Toyota  Allion  2008  4885000       13000    Petrol\n",
       "4     Toyota  Allion  2017  8000000       22300    Petrol\n",
       "...      ...     ...   ...      ...         ...       ...\n",
       "1494  Toyota    Vitz  2007  4350000      112000    Petrol\n",
       "1495  Toyota    Vitz  2008  4550000      112000    Petrol\n",
       "1496  Toyota    Vitz  2007  4350000      112000    Petrol\n",
       "1497  Toyota    Vitz  2007  4350000      113000    Petrol\n",
       "1498  Toyota    Vitz  2008  4550000      114000    Petrol\n",
       "\n",
       "[1499 rows x 6 columns]"
      ]
     },
     "execution_count": 33,
     "metadata": {},
     "output_type": "execute_result"
    }
   ],
   "source": [
    "df"
   ]
  },
  {
   "cell_type": "code",
   "execution_count": 34,
   "id": "6d09fc39",
   "metadata": {},
   "outputs": [
    {
     "name": "stdout",
     "output_type": "stream",
     "text": [
      "<class 'pandas.core.frame.DataFrame'>\n",
      "RangeIndex: 1499 entries, 0 to 1498\n",
      "Data columns (total 6 columns):\n",
      " #   Column      Non-Null Count  Dtype \n",
      "---  ------      --------------  ----- \n",
      " 0   name        1499 non-null   object\n",
      " 1   company     1499 non-null   object\n",
      " 2   year        1499 non-null   int64 \n",
      " 3   Price       1499 non-null   int64 \n",
      " 4   kms_driven  1499 non-null   int64 \n",
      " 5   fuel_type   1499 non-null   object\n",
      "dtypes: int64(3), object(3)\n",
      "memory usage: 70.4+ KB\n"
     ]
    }
   ],
   "source": [
    "df.info()"
   ]
  },
  {
   "cell_type": "code",
   "execution_count": 35,
   "id": "da5fb06a",
   "metadata": {},
   "outputs": [
    {
     "data": {
      "text/html": [
       "<div>\n",
       "<style scoped>\n",
       "    .dataframe tbody tr th:only-of-type {\n",
       "        vertical-align: middle;\n",
       "    }\n",
       "\n",
       "    .dataframe tbody tr th {\n",
       "        vertical-align: top;\n",
       "    }\n",
       "\n",
       "    .dataframe thead th {\n",
       "        text-align: right;\n",
       "    }\n",
       "</style>\n",
       "<table border=\"1\" class=\"dataframe\">\n",
       "  <thead>\n",
       "    <tr style=\"text-align: right;\">\n",
       "      <th></th>\n",
       "      <th>year</th>\n",
       "      <th>Price</th>\n",
       "      <th>kms_driven</th>\n",
       "    </tr>\n",
       "  </thead>\n",
       "  <tbody>\n",
       "    <tr>\n",
       "      <th>count</th>\n",
       "      <td>1499.000000</td>\n",
       "      <td>1.499000e+03</td>\n",
       "      <td>1499.000000</td>\n",
       "    </tr>\n",
       "    <tr>\n",
       "      <th>mean</th>\n",
       "      <td>2010.998666</td>\n",
       "      <td>6.403055e+06</td>\n",
       "      <td>94367.555037</td>\n",
       "    </tr>\n",
       "    <tr>\n",
       "      <th>std</th>\n",
       "      <td>4.823452</td>\n",
       "      <td>2.082153e+06</td>\n",
       "      <td>49223.648873</td>\n",
       "    </tr>\n",
       "    <tr>\n",
       "      <th>min</th>\n",
       "      <td>2000.000000</td>\n",
       "      <td>1.050000e+06</td>\n",
       "      <td>500.000000</td>\n",
       "    </tr>\n",
       "    <tr>\n",
       "      <th>25%</th>\n",
       "      <td>2008.000000</td>\n",
       "      <td>5.200000e+06</td>\n",
       "      <td>59583.000000</td>\n",
       "    </tr>\n",
       "    <tr>\n",
       "      <th>50%</th>\n",
       "      <td>2012.000000</td>\n",
       "      <td>6.100000e+06</td>\n",
       "      <td>90000.000000</td>\n",
       "    </tr>\n",
       "    <tr>\n",
       "      <th>75%</th>\n",
       "      <td>2015.000000</td>\n",
       "      <td>7.500000e+06</td>\n",
       "      <td>123000.000000</td>\n",
       "    </tr>\n",
       "    <tr>\n",
       "      <th>max</th>\n",
       "      <td>2020.000000</td>\n",
       "      <td>2.210000e+07</td>\n",
       "      <td>386400.000000</td>\n",
       "    </tr>\n",
       "  </tbody>\n",
       "</table>\n",
       "</div>"
      ],
      "text/plain": [
       "              year         Price     kms_driven\n",
       "count  1499.000000  1.499000e+03    1499.000000\n",
       "mean   2010.998666  6.403055e+06   94367.555037\n",
       "std       4.823452  2.082153e+06   49223.648873\n",
       "min    2000.000000  1.050000e+06     500.000000\n",
       "25%    2008.000000  5.200000e+06   59583.000000\n",
       "50%    2012.000000  6.100000e+06   90000.000000\n",
       "75%    2015.000000  7.500000e+06  123000.000000\n",
       "max    2020.000000  2.210000e+07  386400.000000"
      ]
     },
     "execution_count": 35,
     "metadata": {},
     "output_type": "execute_result"
    }
   ],
   "source": [
    "df.describe()"
   ]
  },
  {
   "cell_type": "code",
   "execution_count": 36,
   "id": "4107efa7",
   "metadata": {},
   "outputs": [
    {
     "data": {
      "text/plain": [
       "1050000"
      ]
     },
     "execution_count": 36,
     "metadata": {},
     "output_type": "execute_result"
    }
   ],
   "source": [
    "df[\"Price\"].min()"
   ]
  },
  {
   "cell_type": "code",
   "execution_count": 37,
   "id": "c9e5bbe2",
   "metadata": {},
   "outputs": [
    {
     "data": {
      "text/plain": [
       "5200000.0"
      ]
     },
     "execution_count": 37,
     "metadata": {},
     "output_type": "execute_result"
    }
   ],
   "source": [
    "df[\"Price\"].quantile(0.25)"
   ]
  },
  {
   "cell_type": "code",
   "execution_count": 38,
   "id": "9dd09556",
   "metadata": {},
   "outputs": [
    {
     "data": {
      "text/plain": [
       "6100000.0"
      ]
     },
     "execution_count": 38,
     "metadata": {},
     "output_type": "execute_result"
    }
   ],
   "source": [
    "df[\"Price\"].median()"
   ]
  },
  {
   "cell_type": "code",
   "execution_count": 39,
   "id": "e839b7f4",
   "metadata": {},
   "outputs": [
    {
     "data": {
      "text/plain": [
       "7500000.0"
      ]
     },
     "execution_count": 39,
     "metadata": {},
     "output_type": "execute_result"
    }
   ],
   "source": [
    "df[\"Price\"].quantile(0.75)"
   ]
  },
  {
   "cell_type": "code",
   "execution_count": 40,
   "id": "47ae5255",
   "metadata": {},
   "outputs": [
    {
     "data": {
      "text/plain": [
       "22100000"
      ]
     },
     "execution_count": 40,
     "metadata": {},
     "output_type": "execute_result"
    }
   ],
   "source": [
    "df[\"Price\"].max()"
   ]
  },
  {
   "cell_type": "code",
   "execution_count": 41,
   "id": "3f7ca15f",
   "metadata": {},
   "outputs": [],
   "source": [
    "find_outlier = df[df[\"Price\"].map(str).apply(len) > 6]"
   ]
  },
  {
   "cell_type": "code",
   "execution_count": 42,
   "id": "fb754b92",
   "metadata": {},
   "outputs": [
    {
     "data": {
      "text/plain": [
       "1050000"
      ]
     },
     "execution_count": 42,
     "metadata": {},
     "output_type": "execute_result"
    }
   ],
   "source": [
    "find_outlier[\"Price\"].min()"
   ]
  },
  {
   "cell_type": "code",
   "execution_count": 43,
   "id": "8dbda1c2",
   "metadata": {},
   "outputs": [
    {
     "data": {
      "text/plain": [
       "5200000.0"
      ]
     },
     "execution_count": 43,
     "metadata": {},
     "output_type": "execute_result"
    }
   ],
   "source": [
    "find_outlier[\"Price\"].quantile(0.25)"
   ]
  },
  {
   "cell_type": "code",
   "execution_count": 44,
   "id": "28bdf4b4",
   "metadata": {},
   "outputs": [
    {
     "data": {
      "text/plain": [
       "6100000.0"
      ]
     },
     "execution_count": 44,
     "metadata": {},
     "output_type": "execute_result"
    }
   ],
   "source": [
    "find_outlier[\"Price\"].median()"
   ]
  },
  {
   "cell_type": "code",
   "execution_count": 45,
   "id": "86e63af1",
   "metadata": {},
   "outputs": [
    {
     "data": {
      "text/plain": [
       "7500000.0"
      ]
     },
     "execution_count": 45,
     "metadata": {},
     "output_type": "execute_result"
    }
   ],
   "source": [
    "find_outlier[\"Price\"].quantile(0.75)"
   ]
  },
  {
   "cell_type": "code",
   "execution_count": 46,
   "id": "044759c5",
   "metadata": {},
   "outputs": [
    {
     "data": {
      "text/plain": [
       "22100000"
      ]
     },
     "execution_count": 46,
     "metadata": {},
     "output_type": "execute_result"
    }
   ],
   "source": [
    "find_outlier[\"Price\"].max()"
   ]
  },
  {
   "cell_type": "code",
   "execution_count": 47,
   "id": "4b0b53fc",
   "metadata": {},
   "outputs": [
    {
     "data": {
      "text/html": [
       "<div>\n",
       "<style scoped>\n",
       "    .dataframe tbody tr th:only-of-type {\n",
       "        vertical-align: middle;\n",
       "    }\n",
       "\n",
       "    .dataframe tbody tr th {\n",
       "        vertical-align: top;\n",
       "    }\n",
       "\n",
       "    .dataframe thead th {\n",
       "        text-align: right;\n",
       "    }\n",
       "</style>\n",
       "<table border=\"1\" class=\"dataframe\">\n",
       "  <thead>\n",
       "    <tr style=\"text-align: right;\">\n",
       "      <th></th>\n",
       "      <th>name</th>\n",
       "      <th>company</th>\n",
       "      <th>year</th>\n",
       "      <th>Price</th>\n",
       "      <th>kms_driven</th>\n",
       "      <th>fuel_type</th>\n",
       "    </tr>\n",
       "  </thead>\n",
       "  <tbody>\n",
       "    <tr>\n",
       "      <th>0</th>\n",
       "      <td>Toyota</td>\n",
       "      <td>Allion</td>\n",
       "      <td>2018</td>\n",
       "      <td>9300000</td>\n",
       "      <td>8000</td>\n",
       "      <td>Petrol</td>\n",
       "    </tr>\n",
       "    <tr>\n",
       "      <th>1</th>\n",
       "      <td>Toyota</td>\n",
       "      <td>Allion</td>\n",
       "      <td>2018</td>\n",
       "      <td>9890000</td>\n",
       "      <td>9875</td>\n",
       "      <td>Petrol</td>\n",
       "    </tr>\n",
       "    <tr>\n",
       "      <th>2</th>\n",
       "      <td>Toyota</td>\n",
       "      <td>Allion</td>\n",
       "      <td>2018</td>\n",
       "      <td>9850000</td>\n",
       "      <td>10907</td>\n",
       "      <td>Petrol</td>\n",
       "    </tr>\n",
       "    <tr>\n",
       "      <th>4</th>\n",
       "      <td>Toyota</td>\n",
       "      <td>Allion</td>\n",
       "      <td>2017</td>\n",
       "      <td>8000000</td>\n",
       "      <td>22300</td>\n",
       "      <td>Petrol</td>\n",
       "    </tr>\n",
       "    <tr>\n",
       "      <th>5</th>\n",
       "      <td>Toyota</td>\n",
       "      <td>Allion</td>\n",
       "      <td>2016</td>\n",
       "      <td>7675000</td>\n",
       "      <td>26000</td>\n",
       "      <td>Petrol</td>\n",
       "    </tr>\n",
       "    <tr>\n",
       "      <th>...</th>\n",
       "      <td>...</td>\n",
       "      <td>...</td>\n",
       "      <td>...</td>\n",
       "      <td>...</td>\n",
       "      <td>...</td>\n",
       "      <td>...</td>\n",
       "    </tr>\n",
       "    <tr>\n",
       "      <th>1259</th>\n",
       "      <td>Toyota</td>\n",
       "      <td>Tank</td>\n",
       "      <td>2018</td>\n",
       "      <td>8790000</td>\n",
       "      <td>36500</td>\n",
       "      <td>Petrol</td>\n",
       "    </tr>\n",
       "    <tr>\n",
       "      <th>1260</th>\n",
       "      <td>Toyota</td>\n",
       "      <td>Tank</td>\n",
       "      <td>2017</td>\n",
       "      <td>7800000</td>\n",
       "      <td>50000</td>\n",
       "      <td>Petrol</td>\n",
       "    </tr>\n",
       "    <tr>\n",
       "      <th>1322</th>\n",
       "      <td>Toyota</td>\n",
       "      <td>Vitz</td>\n",
       "      <td>2019</td>\n",
       "      <td>8790000</td>\n",
       "      <td>1000</td>\n",
       "      <td>Petrol</td>\n",
       "    </tr>\n",
       "    <tr>\n",
       "      <th>1323</th>\n",
       "      <td>Toyota</td>\n",
       "      <td>Vitz</td>\n",
       "      <td>2020</td>\n",
       "      <td>8900000</td>\n",
       "      <td>1300</td>\n",
       "      <td>Petrol</td>\n",
       "    </tr>\n",
       "    <tr>\n",
       "      <th>1345</th>\n",
       "      <td>Toyota</td>\n",
       "      <td>Vitz</td>\n",
       "      <td>2019</td>\n",
       "      <td>8790000</td>\n",
       "      <td>31900</td>\n",
       "      <td>Petrol</td>\n",
       "    </tr>\n",
       "  </tbody>\n",
       "</table>\n",
       "<p>293 rows × 6 columns</p>\n",
       "</div>"
      ],
      "text/plain": [
       "        name company  year    Price  kms_driven fuel_type\n",
       "0     Toyota  Allion  2018  9300000        8000    Petrol\n",
       "1     Toyota  Allion  2018  9890000        9875    Petrol\n",
       "2     Toyota  Allion  2018  9850000       10907    Petrol\n",
       "4     Toyota  Allion  2017  8000000       22300    Petrol\n",
       "5     Toyota  Allion  2016  7675000       26000    Petrol\n",
       "...      ...     ...   ...      ...         ...       ...\n",
       "1259  Toyota    Tank  2018  8790000       36500    Petrol\n",
       "1260  Toyota    Tank  2017  7800000       50000    Petrol\n",
       "1322  Toyota    Vitz  2019  8790000        1000    Petrol\n",
       "1323  Toyota    Vitz  2020  8900000        1300    Petrol\n",
       "1345  Toyota    Vitz  2019  8790000       31900    Petrol\n",
       "\n",
       "[293 rows x 6 columns]"
      ]
     },
     "execution_count": 47,
     "metadata": {},
     "output_type": "execute_result"
    }
   ],
   "source": [
    "find_outlier[find_outlier[\"Price\"] > find_outlier[\"Price\"].quantile(0.75)]"
   ]
  },
  {
   "cell_type": "code",
   "execution_count": 49,
   "id": "d830b613",
   "metadata": {},
   "outputs": [
    {
     "data": {
      "text/html": [
       "<div>\n",
       "<style scoped>\n",
       "    .dataframe tbody tr th:only-of-type {\n",
       "        vertical-align: middle;\n",
       "    }\n",
       "\n",
       "    .dataframe tbody tr th {\n",
       "        vertical-align: top;\n",
       "    }\n",
       "\n",
       "    .dataframe thead th {\n",
       "        text-align: right;\n",
       "    }\n",
       "</style>\n",
       "<table border=\"1\" class=\"dataframe\">\n",
       "  <thead>\n",
       "    <tr style=\"text-align: right;\">\n",
       "      <th></th>\n",
       "      <th>name</th>\n",
       "      <th>company</th>\n",
       "      <th>year</th>\n",
       "      <th>Price</th>\n",
       "      <th>kms_driven</th>\n",
       "      <th>fuel_type</th>\n",
       "    </tr>\n",
       "  </thead>\n",
       "  <tbody>\n",
       "    <tr>\n",
       "      <th>11</th>\n",
       "      <td>Toyota</td>\n",
       "      <td>Allion</td>\n",
       "      <td>2016</td>\n",
       "      <td>11500000</td>\n",
       "      <td>47000</td>\n",
       "      <td>Petrol</td>\n",
       "    </tr>\n",
       "    <tr>\n",
       "      <th>12</th>\n",
       "      <td>Toyota</td>\n",
       "      <td>Allion</td>\n",
       "      <td>2016</td>\n",
       "      <td>11500000</td>\n",
       "      <td>49000</td>\n",
       "      <td>Petrol</td>\n",
       "    </tr>\n",
       "    <tr>\n",
       "      <th>14</th>\n",
       "      <td>Toyota</td>\n",
       "      <td>Allion</td>\n",
       "      <td>2016</td>\n",
       "      <td>11500000</td>\n",
       "      <td>56000</td>\n",
       "      <td>Petrol</td>\n",
       "    </tr>\n",
       "  </tbody>\n",
       "</table>\n",
       "</div>"
      ],
      "text/plain": [
       "      name company  year     Price  kms_driven fuel_type\n",
       "11  Toyota  Allion  2016  11500000       47000    Petrol\n",
       "12  Toyota  Allion  2016  11500000       49000    Petrol\n",
       "14  Toyota  Allion  2016  11500000       56000    Petrol"
      ]
     },
     "execution_count": 49,
     "metadata": {},
     "output_type": "execute_result"
    }
   ],
   "source": [
    "outlier = find_outlier[find_outlier[\"Price\"] == 11500000]\n",
    "outlier"
   ]
  },
  {
   "cell_type": "code",
   "execution_count": 53,
   "id": "9917d988",
   "metadata": {},
   "outputs": [],
   "source": [
    "df = df[df[\"Price\"] != 400000]"
   ]
  },
  {
   "cell_type": "code",
   "execution_count": 54,
   "id": "b6e2df62",
   "metadata": {},
   "outputs": [],
   "source": [
    "df.to_csv(\"Cleaned_Data.csv\", index=False)"
   ]
  },
  {
   "cell_type": "code",
   "execution_count": 55,
   "id": "6f037c64",
   "metadata": {},
   "outputs": [],
   "source": [
    "X = df.drop(columns = \"Price\")\n",
    "y = df[\"Price\"]"
   ]
  },
  {
   "cell_type": "code",
   "execution_count": 56,
   "id": "4ad1145a",
   "metadata": {},
   "outputs": [
    {
     "data": {
      "text/html": [
       "<div>\n",
       "<style scoped>\n",
       "    .dataframe tbody tr th:only-of-type {\n",
       "        vertical-align: middle;\n",
       "    }\n",
       "\n",
       "    .dataframe tbody tr th {\n",
       "        vertical-align: top;\n",
       "    }\n",
       "\n",
       "    .dataframe thead th {\n",
       "        text-align: right;\n",
       "    }\n",
       "</style>\n",
       "<table border=\"1\" class=\"dataframe\">\n",
       "  <thead>\n",
       "    <tr style=\"text-align: right;\">\n",
       "      <th></th>\n",
       "      <th>name</th>\n",
       "      <th>company</th>\n",
       "      <th>year</th>\n",
       "      <th>kms_driven</th>\n",
       "      <th>fuel_type</th>\n",
       "    </tr>\n",
       "  </thead>\n",
       "  <tbody>\n",
       "    <tr>\n",
       "      <th>0</th>\n",
       "      <td>Toyota</td>\n",
       "      <td>Allion</td>\n",
       "      <td>2018</td>\n",
       "      <td>8000</td>\n",
       "      <td>Petrol</td>\n",
       "    </tr>\n",
       "    <tr>\n",
       "      <th>1</th>\n",
       "      <td>Toyota</td>\n",
       "      <td>Allion</td>\n",
       "      <td>2018</td>\n",
       "      <td>9875</td>\n",
       "      <td>Petrol</td>\n",
       "    </tr>\n",
       "    <tr>\n",
       "      <th>2</th>\n",
       "      <td>Toyota</td>\n",
       "      <td>Allion</td>\n",
       "      <td>2018</td>\n",
       "      <td>10907</td>\n",
       "      <td>Petrol</td>\n",
       "    </tr>\n",
       "    <tr>\n",
       "      <th>3</th>\n",
       "      <td>Toyota</td>\n",
       "      <td>Allion</td>\n",
       "      <td>2008</td>\n",
       "      <td>13000</td>\n",
       "      <td>Petrol</td>\n",
       "    </tr>\n",
       "    <tr>\n",
       "      <th>4</th>\n",
       "      <td>Toyota</td>\n",
       "      <td>Allion</td>\n",
       "      <td>2017</td>\n",
       "      <td>22300</td>\n",
       "      <td>Petrol</td>\n",
       "    </tr>\n",
       "    <tr>\n",
       "      <th>...</th>\n",
       "      <td>...</td>\n",
       "      <td>...</td>\n",
       "      <td>...</td>\n",
       "      <td>...</td>\n",
       "      <td>...</td>\n",
       "    </tr>\n",
       "    <tr>\n",
       "      <th>1494</th>\n",
       "      <td>Toyota</td>\n",
       "      <td>Vitz</td>\n",
       "      <td>2007</td>\n",
       "      <td>112000</td>\n",
       "      <td>Petrol</td>\n",
       "    </tr>\n",
       "    <tr>\n",
       "      <th>1495</th>\n",
       "      <td>Toyota</td>\n",
       "      <td>Vitz</td>\n",
       "      <td>2008</td>\n",
       "      <td>112000</td>\n",
       "      <td>Petrol</td>\n",
       "    </tr>\n",
       "    <tr>\n",
       "      <th>1496</th>\n",
       "      <td>Toyota</td>\n",
       "      <td>Vitz</td>\n",
       "      <td>2007</td>\n",
       "      <td>112000</td>\n",
       "      <td>Petrol</td>\n",
       "    </tr>\n",
       "    <tr>\n",
       "      <th>1497</th>\n",
       "      <td>Toyota</td>\n",
       "      <td>Vitz</td>\n",
       "      <td>2007</td>\n",
       "      <td>113000</td>\n",
       "      <td>Petrol</td>\n",
       "    </tr>\n",
       "    <tr>\n",
       "      <th>1498</th>\n",
       "      <td>Toyota</td>\n",
       "      <td>Vitz</td>\n",
       "      <td>2008</td>\n",
       "      <td>114000</td>\n",
       "      <td>Petrol</td>\n",
       "    </tr>\n",
       "  </tbody>\n",
       "</table>\n",
       "<p>1495 rows × 5 columns</p>\n",
       "</div>"
      ],
      "text/plain": [
       "        name company  year  kms_driven fuel_type\n",
       "0     Toyota  Allion  2018        8000    Petrol\n",
       "1     Toyota  Allion  2018        9875    Petrol\n",
       "2     Toyota  Allion  2018       10907    Petrol\n",
       "3     Toyota  Allion  2008       13000    Petrol\n",
       "4     Toyota  Allion  2017       22300    Petrol\n",
       "...      ...     ...   ...         ...       ...\n",
       "1494  Toyota    Vitz  2007      112000    Petrol\n",
       "1495  Toyota    Vitz  2008      112000    Petrol\n",
       "1496  Toyota    Vitz  2007      112000    Petrol\n",
       "1497  Toyota    Vitz  2007      113000    Petrol\n",
       "1498  Toyota    Vitz  2008      114000    Petrol\n",
       "\n",
       "[1495 rows x 5 columns]"
      ]
     },
     "execution_count": 56,
     "metadata": {},
     "output_type": "execute_result"
    }
   ],
   "source": [
    "X"
   ]
  },
  {
   "cell_type": "code",
   "execution_count": 57,
   "id": "8b4c7f53",
   "metadata": {},
   "outputs": [
    {
     "data": {
      "text/plain": [
       "0       9300000\n",
       "1       9890000\n",
       "2       9850000\n",
       "3       4885000\n",
       "4       8000000\n",
       "         ...   \n",
       "1494    4350000\n",
       "1495    4550000\n",
       "1496    4350000\n",
       "1497    4350000\n",
       "1498    4550000\n",
       "Name: Price, Length: 1495, dtype: int64"
      ]
     },
     "execution_count": 57,
     "metadata": {},
     "output_type": "execute_result"
    }
   ],
   "source": [
    "y"
   ]
  },
  {
   "cell_type": "code",
   "execution_count": 58,
   "id": "ea8d3c26",
   "metadata": {},
   "outputs": [],
   "source": [
    "X_train, X_test,y_train, y_test = train_test_split(X, y, test_size = 0.1)"
   ]
  },
  {
   "cell_type": "code",
   "execution_count": 59,
   "id": "22131964",
   "metadata": {},
   "outputs": [
    {
     "data": {
      "text/plain": [
       "OneHotEncoder()"
      ]
     },
     "execution_count": 59,
     "metadata": {},
     "output_type": "execute_result"
    }
   ],
   "source": [
    "ohenc = OneHotEncoder()\n",
    "ohenc.fit(X[['name','company','fuel_type']])"
   ]
  },
  {
   "cell_type": "code",
   "execution_count": 60,
   "id": "e197d287",
   "metadata": {},
   "outputs": [],
   "source": [
    "column_trans = make_column_transformer((OneHotEncoder(categories = ohenc.categories_), ['name','company','fuel_type']), remainder='passthrough')"
   ]
  },
  {
   "cell_type": "code",
   "execution_count": 61,
   "id": "dceafd19",
   "metadata": {},
   "outputs": [],
   "source": [
    "lnregr = LinearRegression()"
   ]
  },
  {
   "cell_type": "code",
   "execution_count": 62,
   "id": "a77fb0a3",
   "metadata": {},
   "outputs": [],
   "source": [
    "final = make_pipeline(column_trans, lnregr)"
   ]
  },
  {
   "cell_type": "code",
   "execution_count": 63,
   "id": "e6da7a72",
   "metadata": {},
   "outputs": [
    {
     "data": {
      "text/plain": [
       "Pipeline(steps=[('columntransformer',\n",
       "                 ColumnTransformer(remainder='passthrough',\n",
       "                                   transformers=[('onehotencoder',\n",
       "                                                  OneHotEncoder(categories=[array(['Toyota'], dtype=object),\n",
       "                                                                            array(['Allion', 'Allion ', 'Allion 240', 'Allion 260', 'Aqua',\n",
       "       'Aqua G Grade', 'Aqua G Sport', 'Aqua G grade', 'Aqua S Grade',\n",
       "       'Aqua X Urban', 'Avanza', 'Axio', 'Axio Fielder', 'Axio G Grade',\n",
       "       'Axio WXB', 'Axio X Gra...\n",
       "       'Corolla 121', 'Corolla 141', 'Corona Premio', 'Premio',\n",
       "       'Premio 240', 'Premio 260', 'Premio G Superior', 'Prius',\n",
       "       'Prius 3rd Generation', 'Prius S Grade', 'Prius S Touring',\n",
       "       'Roomy', 'Soluna', 'Tank', 'Vios', 'Vitz', 'soluna'], dtype=object),\n",
       "                                                                            array(['Diesel', 'Electric', 'Hybrid', 'Petrol'], dtype=object)]),\n",
       "                                                  ['name', 'company',\n",
       "                                                   'fuel_type'])])),\n",
       "                ('linearregression', LinearRegression())])"
      ]
     },
     "execution_count": 63,
     "metadata": {},
     "output_type": "execute_result"
    }
   ],
   "source": [
    "final.fit(X_train, y_train)"
   ]
  },
  {
   "cell_type": "code",
   "execution_count": 64,
   "id": "e2a2a210",
   "metadata": {},
   "outputs": [
    {
     "data": {
      "text/plain": [
       "0.8923286363982491"
      ]
     },
     "execution_count": 64,
     "metadata": {},
     "output_type": "execute_result"
    }
   ],
   "source": [
    "final.score(X_test, y_test)"
   ]
  },
  {
   "cell_type": "code",
   "execution_count": 65,
   "id": "e885c9ff",
   "metadata": {},
   "outputs": [],
   "source": [
    "y_pred = final.predict(X_test)"
   ]
  },
  {
   "cell_type": "code",
   "execution_count": 66,
   "id": "769e97cb",
   "metadata": {},
   "outputs": [
    {
     "data": {
      "text/plain": [
       "array([ 6114268.51676285,  6891545.25128508,  6479908.82999527,\n",
       "        5596890.70264411,  4174180.3057183 ,  6353696.20641816,\n",
       "        5533291.24831557,  5456291.92630303,  5801797.04697049,\n",
       "        7785942.85786009,  7855564.85424113,  6171839.81523454,\n",
       "        6763081.09787095,  6218911.32693565,  5067590.84537756,\n",
       "        5273924.94946671,  7491119.64969397,  6025600.94127941,\n",
       "        3888602.76628196,  7946283.81062794,  4373516.92299485,\n",
       "        7887396.68859291,  5258608.11026287,  2273279.91097045,\n",
       "        5788151.13567984,  6401714.51908231,  5503959.77308595,\n",
       "        7541553.46568596,  6991739.02268505,  8234473.61597848,\n",
       "        6923509.46623147,  5654433.52201867,  3583086.01819015,\n",
       "        5648863.76230824,  2387058.9623363 ,  7430317.41384935,\n",
       "        6151295.16167307,  7472271.40183389,  6457181.2112689 ,\n",
       "        6382438.03506172,  6429428.12888336,  7106898.87832999,\n",
       "        8741205.11198866,  7429105.76407766,  5663194.08778656,\n",
       "        3772103.55124474,  7588590.44462752,  7618388.67926085,\n",
       "       11545833.8085655 ,  4803481.62576818, 10700349.08053255,\n",
       "        5629369.60332155,  6771129.17361784,  4051318.30618238,\n",
       "        6017246.30171371,  8439842.8249228 ,  6794619.86223149,\n",
       "        7040566.03873408,  8099937.80066025,  6736137.38527143,\n",
       "        4850503.73327446,  8312657.62281239,  3922021.32454491,\n",
       "        3594225.53761113,  4234300.34064329, 16112897.51003325,\n",
       "        3848422.57490444,  5392325.72392392,  6499040.4433893 ,\n",
       "        6187130.08764958,  6752846.66440284,  5303572.11414886,\n",
       "        6044646.52038169,  6691562.5176686 ,  7225437.06233382,\n",
       "        7447026.69298089,  4583975.30315614,  8290016.03837776,\n",
       "        5383967.27240586,  7462330.5483799 ,  6805759.38165247,\n",
       "        6810117.49159122,  5473087.23972607,  6719428.1061399 ,\n",
       "        6357007.75881946, 11512415.25030255,  3070764.49126208,\n",
       "       12440162.64112854,  6906800.18710005,  7849995.0945307 ,\n",
       "        6446415.89600039,  7551679.44924843,  4116143.51331902,\n",
       "        5568508.17270815,  6382085.17134428,  5236368.64007795,\n",
       "        6404642.69817173,  7945879.16555309,  4220348.53095639,\n",
       "        3560806.97934818,  7095759.35890901,  8044149.69198477,\n",
       "        5587267.31379104,  7436391.45048988,  7433102.29370463,\n",
       "        7584696.49037862,  6835181.41028845,  4288405.56618917,\n",
       "        5386919.84450138,  5638281.58230186,  6718857.63634121,\n",
       "        3743789.0138092 ,  4356807.64386332,  7833285.81539917,\n",
       "        4274481.16691291,  3951062.63139355,  3626424.17716706,\n",
       "        5168352.50908339, 15429578.5128907 ,  8066519.24239731,\n",
       "        4249923.95501912,  7073461.25647974,  7410283.08848906,\n",
       "        7867818.3256042 ,  6758416.42411339, 11696442.38480556,\n",
       "        8392438.14253795,  7178094.10479462,  5379429.24229825,\n",
       "        7456954.56263006,  5565227.12990141,  4565694.92969513,\n",
       "        6398254.28410208,  6468416.44685686,  6867246.50016379,\n",
       "        7941688.75886679,  8149742.15128064,  7139105.78682125,\n",
       "        5198463.37432194,  9963281.90218377,  6722212.98599517,\n",
       "        5386669.92992187,  8370352.00034773,  5493607.48109543,\n",
       "        5688258.00648367,  5838278.9730742 ,  5219659.36094654,\n",
       "       10268809.16190696,  6480764.18204379,  7805668.36305678])"
      ]
     },
     "execution_count": 66,
     "metadata": {},
     "output_type": "execute_result"
    }
   ],
   "source": [
    "y_pred\n"
   ]
  },
  {
   "cell_type": "code",
   "execution_count": 67,
   "id": "7d83b630",
   "metadata": {},
   "outputs": [
    {
     "data": {
      "text/plain": [
       "0.8923286363982491"
      ]
     },
     "execution_count": 67,
     "metadata": {},
     "output_type": "execute_result"
    }
   ],
   "source": [
    "r2_score(y_test, y_pred)"
   ]
  },
  {
   "cell_type": "code",
   "execution_count": 68,
   "id": "86fca000",
   "metadata": {},
   "outputs": [
    {
     "name": "stdout",
     "output_type": "stream",
     "text": [
      "0.8702631774634022\n",
      "0.8576902924709318\n",
      "0.8678759215465377\n",
      "0.8443176863159995\n",
      "0.8349443038166133\n",
      "0.7923973565109186\n",
      "0.8929762909060088\n",
      "0.7440153688581761\n",
      "0.8888184210923882\n",
      "0.8644222032020029\n"
     ]
    }
   ],
   "source": [
    "for i in range(10):\n",
    "    X_train, X_test, y_train, y_test = train_test_split(X, y, test_size = 0.1)\n",
    "    \n",
    "    lnregr = LinearRegression()\n",
    "    \n",
    "    final = make_pipeline(column_trans, lnregr)\n",
    "    \n",
    "    final.fit(X_train, y_train)\n",
    "    \n",
    "    y_pred = final.predict(X_test)\n",
    "    \n",
    "    print(r2_score(y_test, y_pred))"
   ]
  },
  {
   "cell_type": "code",
   "execution_count": 69,
   "id": "6b1f6a47",
   "metadata": {},
   "outputs": [],
   "source": [
    "scores = []\n",
    "for i in range(1000):\n",
    "    X_train, X_test, y_train, y_test = train_test_split(X, y, test_size = 0.2, random_state = i)\n",
    "    \n",
    "    lnregr = LinearRegression()\n",
    "    \n",
    "    final = make_pipeline(column_trans, lnregr)\n",
    "    \n",
    "    final.fit(X_train, y_train)\n",
    "    \n",
    "    y_pred = final.predict(X_test)\n",
    "    \n",
    "    scores.append(r2_score(y_test, y_pred))"
   ]
  },
  {
   "cell_type": "code",
   "execution_count": 70,
   "id": "47e103ac",
   "metadata": {},
   "outputs": [
    {
     "data": {
      "text/plain": [
       "517"
      ]
     },
     "execution_count": 70,
     "metadata": {},
     "output_type": "execute_result"
    }
   ],
   "source": [
    "np.argmax(scores)"
   ]
  },
  {
   "cell_type": "code",
   "execution_count": 71,
   "id": "cf21ed07",
   "metadata": {},
   "outputs": [],
   "source": [
    "pickle.dump(final, open(\"Price_Prediction.pkl\", \"wb\"))"
   ]
  },
  {
   "cell_type": "code",
   "execution_count": null,
   "id": "2f5bdf08",
   "metadata": {},
   "outputs": [],
   "source": []
  }
 ],
 "metadata": {
  "kernelspec": {
   "display_name": "Python 3 (ipykernel)",
   "language": "python",
   "name": "python3"
  },
  "language_info": {
   "codemirror_mode": {
    "name": "ipython",
    "version": 3
   },
   "file_extension": ".py",
   "mimetype": "text/x-python",
   "name": "python",
   "nbconvert_exporter": "python",
   "pygments_lexer": "ipython3",
   "version": "3.9.12"
  }
 },
 "nbformat": 4,
 "nbformat_minor": 5
}
