{
 "cells": [
  {
   "cell_type": "markdown",
   "id": "5084d7d1",
   "metadata": {},
   "source": [
    "# Auto_Mobile_Price_Prediction_ML_Model"
   ]
  },
  {
   "cell_type": "markdown",
   "id": "dac695b2",
   "metadata": {},
   "source": [
    "## Imamdeen\n",
    "* Unversity of Solent \n",
    "* BSc Final year Project \n",
    "* M.A.M Imamdeen"
   ]
  },
  {
   "cell_type": "markdown",
   "id": "a922f315",
   "metadata": {},
   "source": [
    "## Python Libraries"
   ]
  },
  {
   "cell_type": "code",
   "execution_count": 1,
   "id": "535bfaf6",
   "metadata": {},
   "outputs": [],
   "source": [
    "import pandas as pd\n",
    "import numpy as np\n",
    "import  matplotlib.pyplot as plt\n",
    "import seaborn as sns\n",
    "import sklearn\n",
    "import pickle\n",
    "\n",
    "from sklearn.linear_model import LinearRegression\n",
    "from sklearn.compose import make_column_transformer\n",
    "from sklearn.pipeline import make_pipeline\n",
    "from sklearn.metrics import r2_score\n",
    "from sklearn.preprocessing import OneHotEncoder\n",
    "\n",
    "from sklearn.model_selection import train_test_split\n",
    "from sklearn.metrics import mean_squared_error as MSE\n",
    "\n",
    "%matplotlib inline\n",
    "\n",
    "import warnings\n",
    "warnings.filterwarnings(\"ignore\")"
   ]
  },
  {
   "cell_type": "markdown",
   "id": "a0c6b6d1",
   "metadata": {},
   "source": [
    "## Reading and Displaying the dataset"
   ]
  },
  {
   "cell_type": "code",
   "execution_count": 4,
   "id": "1dd149ec",
   "metadata": {},
   "outputs": [
    {
     "data": {
      "text/html": [
       "<div>\n",
       "<style scoped>\n",
       "    .dataframe tbody tr th:only-of-type {\n",
       "        vertical-align: middle;\n",
       "    }\n",
       "\n",
       "    .dataframe tbody tr th {\n",
       "        vertical-align: top;\n",
       "    }\n",
       "\n",
       "    .dataframe thead th {\n",
       "        text-align: right;\n",
       "    }\n",
       "</style>\n",
       "<table border=\"1\" class=\"dataframe\">\n",
       "  <thead>\n",
       "    <tr style=\"text-align: right;\">\n",
       "      <th></th>\n",
       "      <th>name</th>\n",
       "      <th>company</th>\n",
       "      <th>year</th>\n",
       "      <th>Price</th>\n",
       "      <th>kms_driven</th>\n",
       "      <th>fuel_type</th>\n",
       "    </tr>\n",
       "  </thead>\n",
       "  <tbody>\n",
       "    <tr>\n",
       "      <th>0</th>\n",
       "      <td>Allion</td>\n",
       "      <td>Toyota</td>\n",
       "      <td>2018</td>\n",
       "      <td>9300000</td>\n",
       "      <td>8000</td>\n",
       "      <td>Petrol</td>\n",
       "    </tr>\n",
       "    <tr>\n",
       "      <th>1</th>\n",
       "      <td>Allion</td>\n",
       "      <td>Toyota</td>\n",
       "      <td>2018</td>\n",
       "      <td>9890000</td>\n",
       "      <td>9875</td>\n",
       "      <td>Petrol</td>\n",
       "    </tr>\n",
       "    <tr>\n",
       "      <th>2</th>\n",
       "      <td>Allion</td>\n",
       "      <td>Toyota</td>\n",
       "      <td>2018</td>\n",
       "      <td>9850000</td>\n",
       "      <td>10907</td>\n",
       "      <td>Petrol</td>\n",
       "    </tr>\n",
       "    <tr>\n",
       "      <th>3</th>\n",
       "      <td>Allion</td>\n",
       "      <td>Toyota</td>\n",
       "      <td>2008</td>\n",
       "      <td>4885000</td>\n",
       "      <td>13000</td>\n",
       "      <td>Petrol</td>\n",
       "    </tr>\n",
       "    <tr>\n",
       "      <th>4</th>\n",
       "      <td>Allion</td>\n",
       "      <td>Toyota</td>\n",
       "      <td>2017</td>\n",
       "      <td>8000000</td>\n",
       "      <td>22300</td>\n",
       "      <td>Petrol</td>\n",
       "    </tr>\n",
       "    <tr>\n",
       "      <th>...</th>\n",
       "      <td>...</td>\n",
       "      <td>...</td>\n",
       "      <td>...</td>\n",
       "      <td>...</td>\n",
       "      <td>...</td>\n",
       "      <td>...</td>\n",
       "    </tr>\n",
       "    <tr>\n",
       "      <th>1494</th>\n",
       "      <td>Vitz</td>\n",
       "      <td>Toyota</td>\n",
       "      <td>2008</td>\n",
       "      <td>4550000</td>\n",
       "      <td>114000</td>\n",
       "      <td>Petrol</td>\n",
       "    </tr>\n",
       "    <tr>\n",
       "      <th>1495</th>\n",
       "      <td>Hyundai</td>\n",
       "      <td>Hyundai Accent 2001</td>\n",
       "      <td>2001</td>\n",
       "      <td>1875000</td>\n",
       "      <td>75000</td>\n",
       "      <td>Petrol</td>\n",
       "    </tr>\n",
       "    <tr>\n",
       "      <th>1496</th>\n",
       "      <td>Maruti</td>\n",
       "      <td>Maruti Suzuki Omni</td>\n",
       "      <td>2011</td>\n",
       "      <td>1350000</td>\n",
       "      <td>135582</td>\n",
       "      <td>Petrol</td>\n",
       "    </tr>\n",
       "    <tr>\n",
       "      <th>1497</th>\n",
       "      <td>Datsun</td>\n",
       "      <td>Datsun Go Plus</td>\n",
       "      <td>2017</td>\n",
       "      <td>2750000</td>\n",
       "      <td>90000</td>\n",
       "      <td>Petrol</td>\n",
       "    </tr>\n",
       "    <tr>\n",
       "      <th>1498</th>\n",
       "      <td>Maruti</td>\n",
       "      <td>Maruti Suzuki Wagon</td>\n",
       "      <td>2014</td>\n",
       "      <td>4425000</td>\n",
       "      <td>67000</td>\n",
       "      <td>Petrol</td>\n",
       "    </tr>\n",
       "  </tbody>\n",
       "</table>\n",
       "<p>1499 rows × 6 columns</p>\n",
       "</div>"
      ],
      "text/plain": [
       "         name              company  year    Price  kms_driven fuel_type\n",
       "0      Allion               Toyota  2018  9300000        8000    Petrol\n",
       "1      Allion               Toyota  2018  9890000        9875    Petrol\n",
       "2      Allion               Toyota  2018  9850000       10907    Petrol\n",
       "3      Allion               Toyota  2008  4885000       13000    Petrol\n",
       "4      Allion               Toyota  2017  8000000       22300    Petrol\n",
       "...       ...                  ...   ...      ...         ...       ...\n",
       "1494     Vitz               Toyota  2008  4550000      114000    Petrol\n",
       "1495  Hyundai  Hyundai Accent 2001  2001  1875000       75000    Petrol\n",
       "1496   Maruti   Maruti Suzuki Omni  2011  1350000      135582    Petrol\n",
       "1497   Datsun       Datsun Go Plus  2017  2750000       90000    Petrol\n",
       "1498   Maruti  Maruti Suzuki Wagon  2014  4425000       67000    Petrol\n",
       "\n",
       "[1499 rows x 6 columns]"
      ]
     },
     "execution_count": 4,
     "metadata": {},
     "output_type": "execute_result"
    }
   ],
   "source": [
    "df = pd.read_csv(\"Toyota_Vehicle_data.csv\")\n",
    "df"
   ]
  },
  {
   "cell_type": "markdown",
   "id": "303636be",
   "metadata": {},
   "source": [
    "## Pre-Processing and Finding out Anomalies"
   ]
  },
  {
   "cell_type": "code",
   "execution_count": 5,
   "id": "85f8063b",
   "metadata": {},
   "outputs": [
    {
     "data": {
      "text/plain": [
       "(1499, 6)"
      ]
     },
     "execution_count": 5,
     "metadata": {},
     "output_type": "execute_result"
    }
   ],
   "source": [
    "df.shape"
   ]
  },
  {
   "cell_type": "code",
   "execution_count": 6,
   "id": "c04f42c3",
   "metadata": {},
   "outputs": [
    {
     "data": {
      "text/plain": [
       "39"
      ]
     },
     "execution_count": 6,
     "metadata": {},
     "output_type": "execute_result"
    }
   ],
   "source": [
    "df[\"name\"].nunique()"
   ]
  },
  {
   "cell_type": "markdown",
   "id": "712fe638",
   "metadata": {},
   "source": [
    "# Anomalies found in \"name\" column:\n",
    "* Names are pretty inconsistent.\n",
    "* Names have company names attached to it.\n",
    "* We can consider first 2-3 words from the names as final name, in-order to make the categorical."
   ]
  },
  {
   "cell_type": "code",
   "execution_count": 7,
   "id": "2a0de7b4",
   "metadata": {},
   "outputs": [
    {
     "data": {
      "text/plain": [
       "array(['Toyota', 'Hyundai Accent 2001', 'Maruti Suzuki Omni',\n",
       "       'Datsun Go Plus', 'Maruti Suzuki Wagon'], dtype=object)"
      ]
     },
     "execution_count": 7,
     "metadata": {},
     "output_type": "execute_result"
    }
   ],
   "source": [
    "df[\"company\"].unique()"
   ]
  },
  {
   "cell_type": "code",
   "execution_count": 8,
   "id": "5d7a6773",
   "metadata": {},
   "outputs": [
    {
     "data": {
      "text/plain": [
       "5"
      ]
     },
     "execution_count": 8,
     "metadata": {},
     "output_type": "execute_result"
    }
   ],
   "source": [
    "df[\"company\"].nunique()"
   ]
  },
  {
   "cell_type": "markdown",
   "id": "2940f6e7",
   "metadata": {},
   "source": [
    "# Anomalies found in \"company\" column:\n",
    "* Some \"company\" names are incorrect.\n"
   ]
  },
  {
   "cell_type": "code",
   "execution_count": 9,
   "id": "e8a0fc88",
   "metadata": {},
   "outputs": [
    {
     "data": {
      "text/plain": [
       "array([2018, 2008, 2017, 2016, 2014, 2013, 2011, 2010, 2009, 2007, 2012,\n",
       "       2006, 2004, 2003, 2002, 2001, 2005, 2015, 2019, 2000, 2020],\n",
       "      dtype=int64)"
      ]
     },
     "execution_count": 9,
     "metadata": {},
     "output_type": "execute_result"
    }
   ],
   "source": [
    "df[\"year\"].unique()"
   ]
  },
  {
   "cell_type": "code",
   "execution_count": 10,
   "id": "e33369fc",
   "metadata": {},
   "outputs": [
    {
     "data": {
      "text/plain": [
       "21"
      ]
     },
     "execution_count": 10,
     "metadata": {},
     "output_type": "execute_result"
    }
   ],
   "source": [
    " df[\"year\"].nunique()"
   ]
  },
  {
   "cell_type": "markdown",
   "id": "1a9cca3d",
   "metadata": {},
   "source": [
    "# Anomalies found in \"year\" column:\n",
    "* Many garbage/non-year values are present.\n",
    "* We have convert the dtype of the \"year\" column from object to int64."
   ]
  },
  {
   "cell_type": "code",
   "execution_count": 11,
   "id": "f3aa252b",
   "metadata": {},
   "outputs": [
    {
     "data": {
      "text/plain": [
       "array([ 9300000,  9890000,  9850000,  4885000,  8000000,  7675000,\n",
       "        7900000,  7000000, 11000000, 13000000, 14500000, 11500000,\n",
       "        9700000, 11250000,  8250000,  8100000,  8800000,  7950000,\n",
       "        9500000,  7350000,  7100000,  7300000,  7290000,  7250000,\n",
       "        8400000,  7500000,  9100000,  6100000,  8600000,  7650000,\n",
       "        7750000,  6950000,  5575000,  5275000,  7225000,  5150000,\n",
       "        5850000,  4900000,  5900000,  8225000,  6400000,  7800000,\n",
       "        6200000,  9000000,  4500000,  6500000,  6300000,  5800000,\n",
       "        5500000,  6000000,  5200000,  5350000,  5100000,  8200000,\n",
       "        6900000,  7390000,  9200000,  6350000,  7600000,  6990000,\n",
       "        6750000,  8575000,  6600000,  8500000,  5650000,  8950000,\n",
       "        5600000,  4975000,  7475000,  6195000,  4875000,  6250000,\n",
       "        5950000,  7200000,  7490000,  5125000,  5700000,  4700000,\n",
       "        4950000, 11450000,  8300000,  8550000,  5975000,  6775000,\n",
       "        5750000,  8450000,  6975000,  5775000,  1050000,  8900000,\n",
       "        7090000,  7850000,  7550000,  7150000,  6450000, 16500000,\n",
       "       15100000, 10500000,  9800000,  7690000, 12100000,  8975000,\n",
       "        7525000,  7190000,  6175000,  4990000,  4550000,  5690000,\n",
       "        4300000,  4075000,  3925000,  3350000,  4000000,  4850000,\n",
       "        4250000,  3400000,  3950000,  4390000,  4690000,  4675000,\n",
       "        5300000,  9275000,  5990000, 13690000, 11690000, 20450000,\n",
       "       22100000, 13975000, 12750000,  8375000,  4800000,  7790000,\n",
       "        9650000,  8775000,  6275000,  6190000,  7450000,  2675000,\n",
       "        2550000,  3000000,  2995000,  8790000,  4350000,  4650000,\n",
       "        3990000,  5985000,  4190000,  4100000,  4670000,  5375000,\n",
       "        6150000,  6850000,  4750000,  3500000,  2500000,  1875000,\n",
       "        1350000,  2750000,  4425000], dtype=int64)"
      ]
     },
     "execution_count": 11,
     "metadata": {},
     "output_type": "execute_result"
    }
   ],
   "source": [
    "df[\"Price\"].unique()"
   ]
  },
  {
   "cell_type": "code",
   "execution_count": 12,
   "id": "3a81ec0b",
   "metadata": {},
   "outputs": [
    {
     "data": {
      "text/plain": [
       "159"
      ]
     },
     "execution_count": 12,
     "metadata": {},
     "output_type": "execute_result"
    }
   ],
   "source": [
    "df[\"Price\"].nunique()"
   ]
  },
  {
   "cell_type": "code",
   "execution_count": 13,
   "id": "279ea3fe",
   "metadata": {},
   "outputs": [
    {
     "name": "stdout",
     "output_type": "stream",
     "text": [
      "No. of records in df with Price as \"Ask For Price\": 0\n"
     ]
    }
   ],
   "source": [
    "count = 0\n",
    "for each_price in df[\"Price\"]:\n",
    "    if each_price == \"Ask For Price\":\n",
    "        count += 1\n",
    "print(\"No. of records in df with Price as \\\"Ask For Price\\\":\", count)"
   ]
  },
  {
   "cell_type": "markdown",
   "id": "6133dddf",
   "metadata": {},
   "source": [
    "## Anomalies found in \"Price\" column:\n",
    "- We have to look after the _\"Ask for Price\"_ type values in the column.\n",
    "- We have convert the dtype of the \"Price\" column from _object_ to _int64_ by removing the commas in-between them."
   ]
  },
  {
   "cell_type": "code",
   "execution_count": 14,
   "id": "292a7b81",
   "metadata": {},
   "outputs": [
    {
     "data": {
      "text/plain": [
       "array([  8000,   9875,  10907,  13000,  22300,  26000,  27000,  31000,\n",
       "        34000,  41000,  47000,  49000,  54000,  56000,  60000,  71000,\n",
       "        71500,  75000,  76501,  85000,  86000,  87000,  89000,  90000,\n",
       "        90080,  92000,  92700,  93000,  96000,  97000, 100000, 102000,\n",
       "       104000, 105000, 106000, 107000, 109000, 110000, 112000, 112500,\n",
       "       113000, 115000, 116000, 117000, 118000, 120000, 121000, 124000,\n",
       "       125000, 126000, 128000, 130000, 133000, 135000, 137000, 138000,\n",
       "        95000,  99000, 102500, 107960, 122600, 127000, 132000, 143000,\n",
       "       123000, 124500, 140000, 147000, 148000, 150000, 157000, 159000,\n",
       "       160000, 174000, 183000, 190000, 200000, 230000,   5800,  15000,\n",
       "        22000,  28000,  30000,  30400,  32000,  34300,  36000,  38000,\n",
       "        38750,  39500,  40000,  40500,  42035,  43000,  44000,  45000,\n",
       "        46000,  47100,  47500,  48000,  53000,  53300,  55000,  55227,\n",
       "        55400,  57000,  58000,  60100,  62000,  62500,  63000,  63421,\n",
       "        63600,  64000,  65000,  65800,  76000,  77000,  78000,  78200,\n",
       "        79000,  80000,  80500,  81000,  81250,  81550,  82000,  82500,\n",
       "        82600,  82700,  82833,  83000,  83300,  84000,  84500,  85440,\n",
       "        88000,  88350,  88500,  89600,  90100,  91000,  94000,  94200,\n",
       "        94464,  98000,  98400,  99324, 100150, 100200, 111200, 115308,\n",
       "       119000, 144000, 145000, 153000, 166300, 182000, 220000,   7900,\n",
       "        15870,  50680,  51500,  53100,  64500,  64567,  65395,  66000,\n",
       "        67000,  68000,  69500,  74600,  98500,  99500,  50000,  53156,\n",
       "        58500,  61200,  73000,  17000,  52300,  61632,  67500,  70000,\n",
       "        77600,  83400,  87800, 144500,   9000,  29000,  35000,  40400,\n",
       "        52600,  71300,  75876,  61000,  61043,  88800, 103000, 108300,\n",
       "         1200,   3751,  10100,  11000,  15807,  19300,  19750,  23100,\n",
       "        35400,  39000,  41500,  44256,  45560,  49850,  51000,  52000,\n",
       "        54600,  58046,  59000,  59200,  63100,  68400,  69000,  72000,\n",
       "        73200,  73500,  74000,  75500,  76500,  77350,  77553,  88200,\n",
       "        92200,  97219, 166000, 178000, 235000,  60568,  90255, 108000,\n",
       "        25000,  68500,  71700,  72115,  76400,  79589,  81500,  85258,\n",
       "       142000, 146000, 158000, 170000, 194000,   4500,   5850,  12500,\n",
       "        15500,  16500,  19000,  20100,  25096,  36300,  36500,  37000,\n",
       "        42000,  47569,  48100,  51789, 121500, 122000, 128720, 141000,\n",
       "       167000,  63002,  89912,  93100, 114000, 175000, 135230, 162000,\n",
       "       180000, 180356, 201000, 213000, 225000, 285000, 340000,  87500,\n",
       "       152000, 154000, 159500, 195000, 275000, 315000, 335000,  99600,\n",
       "       105240, 111000, 134000, 135620, 139800, 140439, 151678, 152132,\n",
       "       154380, 155000, 156000, 157250, 159831, 160500, 160572, 162800,\n",
       "       164000, 165000, 168000, 169000, 175050, 177000, 179000, 287559,\n",
       "       300000, 327000, 386400,  77250,  96500, 101000, 104538, 106094,\n",
       "       114340, 117500, 130500, 136000, 149000, 161100, 163000, 193000,\n",
       "       237200, 260000, 116200, 123123, 127865, 134500, 136500, 172000,\n",
       "       205000,  88900, 198000, 210600,  11400,  89400,    500,   2000,\n",
       "         2300,   3100,   3450,   5000,   6500,   7500,   8200,  10000,\n",
       "        10200, 173564,   6000,  11800,  24191,  54475,  58200,  59966,\n",
       "        60679,  61500,  66800,  67324,  72300,  73843,  74800,  76800,\n",
       "        78650,  79002,  86200,  86500,  86789,  88794,  94008,  96526,\n",
       "       101684, 101956, 104174, 109500, 109566, 112900, 113631, 114900,\n",
       "       116736, 118400, 122586, 128578, 129000, 131000, 137871, 139000,\n",
       "       142500, 149800, 161500, 168900, 223500, 240000,  65786, 105600,\n",
       "       126306,   3000,   6940,   7200,  19650,  28500,  29854,  92813,\n",
       "       126700, 149600, 160856, 188542, 197000, 218000, 252000, 318000,\n",
       "         5300,  14654,  18990,  19850,  20000,  21500,  21786,  93500,\n",
       "        99230, 100512, 145700, 153500, 171000, 173000, 175500, 191000,\n",
       "       209263, 210000, 228000,   1000,   1300,  27350,  27584,  27860,\n",
       "        28900,  29500,  29838,  29900,  30700,  31300,  31900,  32500,\n",
       "        33000,  33400,  33500,  34028,  36900,  38800,  39900,  40950,\n",
       "        43200,  43325,  44500,  44700,  44800,  47132,  48840,  49470,\n",
       "        51900,  52496,  57500,  58907,  91500,  92158,  92500,  94025,\n",
       "        97750,  99421, 102200, 110500, 135582], dtype=int64)"
      ]
     },
     "execution_count": 14,
     "metadata": {},
     "output_type": "execute_result"
    }
   ],
   "source": [
    "df[\"kms_driven\"].unique()"
   ]
  },
  {
   "cell_type": "code",
   "execution_count": 15,
   "id": "8863a03d",
   "metadata": {},
   "outputs": [
    {
     "data": {
      "text/plain": [
       "485"
      ]
     },
     "execution_count": 15,
     "metadata": {},
     "output_type": "execute_result"
    }
   ],
   "source": [
    "df[\"kms_driven\"].nunique()"
   ]
  },
  {
   "cell_type": "code",
   "execution_count": 16,
   "id": "dfcde607",
   "metadata": {},
   "outputs": [
    {
     "name": "stdout",
     "output_type": "stream",
     "text": [
      "No. of records in df with kms_driven as \"nan\": 0\n",
      "No. of records in df with kms_driven as \"Petrol\": 0\n"
     ]
    }
   ],
   "source": [
    "count = 0\n",
    "\n",
    "for each_kms in df[\"kms_driven\"]:\n",
    "    if each_kms == \"Petrol\":\n",
    "        count += 1\n",
    "        \n",
    "print(\"No. of records in df with kms_driven as \\\"nan\\\":\", df[\"kms_driven\"].isnull().sum())\n",
    "print(\"No. of records in df with kms_driven as \\\"Petrol\\\":\", count)"
   ]
  },
  {
   "cell_type": "markdown",
   "id": "8bb18cf3",
   "metadata": {},
   "source": [
    "# Anomalies found in \"kms_driven\" column:\n",
    "* We have to look after the \"Petrol\" type values in the column.\n",
    "* We have to convert the dtype of the \"kms_driven\" column from object with \"kms\" in the end to int64 by removing the them."
   ]
  },
  {
   "cell_type": "code",
   "execution_count": 17,
   "id": "db5d4cca",
   "metadata": {},
   "outputs": [
    {
     "data": {
      "text/plain": [
       "array(['Petrol', 'Hybrid', 'Electric', 'Diesel'], dtype=object)"
      ]
     },
     "execution_count": 17,
     "metadata": {},
     "output_type": "execute_result"
    }
   ],
   "source": [
    "df[\"fuel_type\"].unique()"
   ]
  },
  {
   "cell_type": "code",
   "execution_count": 18,
   "id": "a3763b3a",
   "metadata": {},
   "outputs": [
    {
     "data": {
      "text/plain": [
       "4"
      ]
     },
     "execution_count": 18,
     "metadata": {},
     "output_type": "execute_result"
    }
   ],
   "source": [
    "df[\"fuel_type\"].nunique()"
   ]
  },
  {
   "cell_type": "code",
   "execution_count": 19,
   "id": "d76d156c",
   "metadata": {},
   "outputs": [
    {
     "name": "stdout",
     "output_type": "stream",
     "text": [
      "\"fuel_type\" column has 0 null values.\n"
     ]
    }
   ],
   "source": [
    "print(\"\\\"fuel_type\\\" column has\", df[\"fuel_type\"].isnull().sum(), \"null values.\")"
   ]
  },
  {
   "cell_type": "markdown",
   "id": "eabfa0b6",
   "metadata": {},
   "source": [
    "## Data Sanity (Clearing) & Filtering"
   ]
  },
  {
   "cell_type": "markdown",
   "id": "b859aa70",
   "metadata": {},
   "source": [
    "### Converting the \"year\" column to _int64_ type"
   ]
  },
  {
   "cell_type": "code",
   "execution_count": 21,
   "id": "9c17bf17",
   "metadata": {},
   "outputs": [],
   "source": [
    "df[\"year\"] = pd.to_numeric(df[\"year\"])\n"
   ]
  },
  {
   "cell_type": "markdown",
   "id": "cdb6f096",
   "metadata": {},
   "source": [
    "### Removing _null_ records from \"fuel_type\" column"
   ]
  },
  {
   "cell_type": "code",
   "execution_count": 27,
   "id": "4436a056",
   "metadata": {},
   "outputs": [],
   "source": [
    "df = df[~df[\"fuel_type\"].isnull()]"
   ]
  },
  {
   "cell_type": "markdown",
   "id": "1895fd5e",
   "metadata": {},
   "source": [
    "### Considering only the first _3 words_ from the \"name\" column"
   ]
  },
  {
   "cell_type": "code",
   "execution_count": 30,
   "id": "7509ea7c",
   "metadata": {},
   "outputs": [],
   "source": [
    "df[\"name\"] = df[\"name\"].str.split().str.slice(0, 3).str.join(\" \")"
   ]
  },
  {
   "cell_type": "markdown",
   "id": "57922cb7",
   "metadata": {},
   "source": [
    "### Resetting the indexes of the dataframe"
   ]
  },
  {
   "cell_type": "code",
   "execution_count": 31,
   "id": "4f75af4a",
   "metadata": {},
   "outputs": [],
   "source": [
    "df = df.reset_index(drop=True)"
   ]
  },
  {
   "cell_type": "code",
   "execution_count": 32,
   "id": "b02b45cf",
   "metadata": {},
   "outputs": [
    {
     "data": {
      "text/html": [
       "<div>\n",
       "<style scoped>\n",
       "    .dataframe tbody tr th:only-of-type {\n",
       "        vertical-align: middle;\n",
       "    }\n",
       "\n",
       "    .dataframe tbody tr th {\n",
       "        vertical-align: top;\n",
       "    }\n",
       "\n",
       "    .dataframe thead th {\n",
       "        text-align: right;\n",
       "    }\n",
       "</style>\n",
       "<table border=\"1\" class=\"dataframe\">\n",
       "  <thead>\n",
       "    <tr style=\"text-align: right;\">\n",
       "      <th></th>\n",
       "      <th>name</th>\n",
       "      <th>company</th>\n",
       "      <th>year</th>\n",
       "      <th>Price</th>\n",
       "      <th>kms_driven</th>\n",
       "      <th>fuel_type</th>\n",
       "    </tr>\n",
       "  </thead>\n",
       "  <tbody>\n",
       "    <tr>\n",
       "      <th>0</th>\n",
       "      <td>Allion</td>\n",
       "      <td>Toyota</td>\n",
       "      <td>2018</td>\n",
       "      <td>9300000</td>\n",
       "      <td>8000</td>\n",
       "      <td>Petrol</td>\n",
       "    </tr>\n",
       "    <tr>\n",
       "      <th>1</th>\n",
       "      <td>Allion</td>\n",
       "      <td>Toyota</td>\n",
       "      <td>2018</td>\n",
       "      <td>9890000</td>\n",
       "      <td>9875</td>\n",
       "      <td>Petrol</td>\n",
       "    </tr>\n",
       "    <tr>\n",
       "      <th>2</th>\n",
       "      <td>Allion</td>\n",
       "      <td>Toyota</td>\n",
       "      <td>2018</td>\n",
       "      <td>9850000</td>\n",
       "      <td>10907</td>\n",
       "      <td>Petrol</td>\n",
       "    </tr>\n",
       "    <tr>\n",
       "      <th>3</th>\n",
       "      <td>Allion</td>\n",
       "      <td>Toyota</td>\n",
       "      <td>2008</td>\n",
       "      <td>4885000</td>\n",
       "      <td>13000</td>\n",
       "      <td>Petrol</td>\n",
       "    </tr>\n",
       "    <tr>\n",
       "      <th>4</th>\n",
       "      <td>Allion</td>\n",
       "      <td>Toyota</td>\n",
       "      <td>2017</td>\n",
       "      <td>8000000</td>\n",
       "      <td>22300</td>\n",
       "      <td>Petrol</td>\n",
       "    </tr>\n",
       "    <tr>\n",
       "      <th>...</th>\n",
       "      <td>...</td>\n",
       "      <td>...</td>\n",
       "      <td>...</td>\n",
       "      <td>...</td>\n",
       "      <td>...</td>\n",
       "      <td>...</td>\n",
       "    </tr>\n",
       "    <tr>\n",
       "      <th>1494</th>\n",
       "      <td>Vitz</td>\n",
       "      <td>Toyota</td>\n",
       "      <td>2008</td>\n",
       "      <td>4550000</td>\n",
       "      <td>114000</td>\n",
       "      <td>Petrol</td>\n",
       "    </tr>\n",
       "    <tr>\n",
       "      <th>1495</th>\n",
       "      <td>Hyundai</td>\n",
       "      <td>Hyundai Accent 2001</td>\n",
       "      <td>2001</td>\n",
       "      <td>1875000</td>\n",
       "      <td>75000</td>\n",
       "      <td>Petrol</td>\n",
       "    </tr>\n",
       "    <tr>\n",
       "      <th>1496</th>\n",
       "      <td>Maruti</td>\n",
       "      <td>Maruti Suzuki Omni</td>\n",
       "      <td>2011</td>\n",
       "      <td>1350000</td>\n",
       "      <td>135582</td>\n",
       "      <td>Petrol</td>\n",
       "    </tr>\n",
       "    <tr>\n",
       "      <th>1497</th>\n",
       "      <td>Datsun</td>\n",
       "      <td>Datsun Go Plus</td>\n",
       "      <td>2017</td>\n",
       "      <td>2750000</td>\n",
       "      <td>90000</td>\n",
       "      <td>Petrol</td>\n",
       "    </tr>\n",
       "    <tr>\n",
       "      <th>1498</th>\n",
       "      <td>Maruti</td>\n",
       "      <td>Maruti Suzuki Wagon</td>\n",
       "      <td>2014</td>\n",
       "      <td>4425000</td>\n",
       "      <td>67000</td>\n",
       "      <td>Petrol</td>\n",
       "    </tr>\n",
       "  </tbody>\n",
       "</table>\n",
       "<p>1499 rows × 6 columns</p>\n",
       "</div>"
      ],
      "text/plain": [
       "         name              company  year    Price  kms_driven fuel_type\n",
       "0      Allion               Toyota  2018  9300000        8000    Petrol\n",
       "1      Allion               Toyota  2018  9890000        9875    Petrol\n",
       "2      Allion               Toyota  2018  9850000       10907    Petrol\n",
       "3      Allion               Toyota  2008  4885000       13000    Petrol\n",
       "4      Allion               Toyota  2017  8000000       22300    Petrol\n",
       "...       ...                  ...   ...      ...         ...       ...\n",
       "1494     Vitz               Toyota  2008  4550000      114000    Petrol\n",
       "1495  Hyundai  Hyundai Accent 2001  2001  1875000       75000    Petrol\n",
       "1496   Maruti   Maruti Suzuki Omni  2011  1350000      135582    Petrol\n",
       "1497   Datsun       Datsun Go Plus  2017  2750000       90000    Petrol\n",
       "1498   Maruti  Maruti Suzuki Wagon  2014  4425000       67000    Petrol\n",
       "\n",
       "[1499 rows x 6 columns]"
      ]
     },
     "execution_count": 32,
     "metadata": {},
     "output_type": "execute_result"
    }
   ],
   "source": [
    "df"
   ]
  },
  {
   "cell_type": "code",
   "execution_count": 33,
   "id": "aeea714f",
   "metadata": {},
   "outputs": [
    {
     "name": "stdout",
     "output_type": "stream",
     "text": [
      "<class 'pandas.core.frame.DataFrame'>\n",
      "RangeIndex: 1499 entries, 0 to 1498\n",
      "Data columns (total 6 columns):\n",
      " #   Column      Non-Null Count  Dtype \n",
      "---  ------      --------------  ----- \n",
      " 0   name        1499 non-null   object\n",
      " 1   company     1499 non-null   object\n",
      " 2   year        1499 non-null   int64 \n",
      " 3   Price       1499 non-null   int64 \n",
      " 4   kms_driven  1499 non-null   int64 \n",
      " 5   fuel_type   1499 non-null   object\n",
      "dtypes: int64(3), object(3)\n",
      "memory usage: 70.4+ KB\n"
     ]
    }
   ],
   "source": [
    "df.info()"
   ]
  },
  {
   "cell_type": "code",
   "execution_count": 34,
   "id": "d04584a5",
   "metadata": {},
   "outputs": [
    {
     "data": {
      "text/html": [
       "<div>\n",
       "<style scoped>\n",
       "    .dataframe tbody tr th:only-of-type {\n",
       "        vertical-align: middle;\n",
       "    }\n",
       "\n",
       "    .dataframe tbody tr th {\n",
       "        vertical-align: top;\n",
       "    }\n",
       "\n",
       "    .dataframe thead th {\n",
       "        text-align: right;\n",
       "    }\n",
       "</style>\n",
       "<table border=\"1\" class=\"dataframe\">\n",
       "  <thead>\n",
       "    <tr style=\"text-align: right;\">\n",
       "      <th></th>\n",
       "      <th>year</th>\n",
       "      <th>Price</th>\n",
       "      <th>kms_driven</th>\n",
       "    </tr>\n",
       "  </thead>\n",
       "  <tbody>\n",
       "    <tr>\n",
       "      <th>count</th>\n",
       "      <td>1499.000000</td>\n",
       "      <td>1.499000e+03</td>\n",
       "      <td>1499.000000</td>\n",
       "    </tr>\n",
       "    <tr>\n",
       "      <th>mean</th>\n",
       "      <td>2011.003336</td>\n",
       "      <td>6.390247e+06</td>\n",
       "      <td>94316.575717</td>\n",
       "    </tr>\n",
       "    <tr>\n",
       "      <th>std</th>\n",
       "      <td>4.830849</td>\n",
       "      <td>2.091601e+06</td>\n",
       "      <td>49215.086233</td>\n",
       "    </tr>\n",
       "    <tr>\n",
       "      <th>min</th>\n",
       "      <td>2000.000000</td>\n",
       "      <td>1.050000e+06</td>\n",
       "      <td>500.000000</td>\n",
       "    </tr>\n",
       "    <tr>\n",
       "      <th>25%</th>\n",
       "      <td>2008.000000</td>\n",
       "      <td>5.200000e+06</td>\n",
       "      <td>59583.000000</td>\n",
       "    </tr>\n",
       "    <tr>\n",
       "      <th>50%</th>\n",
       "      <td>2012.000000</td>\n",
       "      <td>6.100000e+06</td>\n",
       "      <td>90000.000000</td>\n",
       "    </tr>\n",
       "    <tr>\n",
       "      <th>75%</th>\n",
       "      <td>2015.000000</td>\n",
       "      <td>7.500000e+06</td>\n",
       "      <td>123000.000000</td>\n",
       "    </tr>\n",
       "    <tr>\n",
       "      <th>max</th>\n",
       "      <td>2020.000000</td>\n",
       "      <td>2.210000e+07</td>\n",
       "      <td>386400.000000</td>\n",
       "    </tr>\n",
       "  </tbody>\n",
       "</table>\n",
       "</div>"
      ],
      "text/plain": [
       "              year         Price     kms_driven\n",
       "count  1499.000000  1.499000e+03    1499.000000\n",
       "mean   2011.003336  6.390247e+06   94316.575717\n",
       "std       4.830849  2.091601e+06   49215.086233\n",
       "min    2000.000000  1.050000e+06     500.000000\n",
       "25%    2008.000000  5.200000e+06   59583.000000\n",
       "50%    2012.000000  6.100000e+06   90000.000000\n",
       "75%    2015.000000  7.500000e+06  123000.000000\n",
       "max    2020.000000  2.210000e+07  386400.000000"
      ]
     },
     "execution_count": 34,
     "metadata": {},
     "output_type": "execute_result"
    }
   ],
   "source": [
    "df.describe()"
   ]
  },
  {
   "cell_type": "code",
   "execution_count": 35,
   "id": "f2e03f5b",
   "metadata": {},
   "outputs": [
    {
     "data": {
      "text/plain": [
       "1050000"
      ]
     },
     "execution_count": 35,
     "metadata": {},
     "output_type": "execute_result"
    }
   ],
   "source": [
    "df[\"Price\"].min()"
   ]
  },
  {
   "cell_type": "code",
   "execution_count": 36,
   "id": "cc9af134",
   "metadata": {},
   "outputs": [
    {
     "data": {
      "text/plain": [
       "5200000.0"
      ]
     },
     "execution_count": 36,
     "metadata": {},
     "output_type": "execute_result"
    }
   ],
   "source": [
    "df[\"Price\"].quantile(0.25)"
   ]
  },
  {
   "cell_type": "code",
   "execution_count": 37,
   "id": "95228534",
   "metadata": {},
   "outputs": [
    {
     "data": {
      "text/plain": [
       "6100000.0"
      ]
     },
     "execution_count": 37,
     "metadata": {},
     "output_type": "execute_result"
    }
   ],
   "source": [
    "df[\"Price\"].median()"
   ]
  },
  {
   "cell_type": "code",
   "execution_count": 38,
   "id": "5d08d5df",
   "metadata": {},
   "outputs": [
    {
     "data": {
      "text/plain": [
       "7500000.0"
      ]
     },
     "execution_count": 38,
     "metadata": {},
     "output_type": "execute_result"
    }
   ],
   "source": [
    "df[\"Price\"].quantile(0.75)"
   ]
  },
  {
   "cell_type": "code",
   "execution_count": 39,
   "id": "4ac1d38a",
   "metadata": {},
   "outputs": [
    {
     "data": {
      "text/plain": [
       "22100000"
      ]
     },
     "execution_count": 39,
     "metadata": {},
     "output_type": "execute_result"
    }
   ],
   "source": [
    "df[\"Price\"].max()"
   ]
  },
  {
   "cell_type": "code",
   "execution_count": 40,
   "id": "5b044154",
   "metadata": {},
   "outputs": [],
   "source": [
    "find_outlier = df[df[\"Price\"].map(str).apply(len) > 6]"
   ]
  },
  {
   "cell_type": "code",
   "execution_count": 41,
   "id": "f97db7a5",
   "metadata": {},
   "outputs": [
    {
     "data": {
      "text/plain": [
       "1050000"
      ]
     },
     "execution_count": 41,
     "metadata": {},
     "output_type": "execute_result"
    }
   ],
   "source": [
    "find_outlier[\"Price\"].min()"
   ]
  },
  {
   "cell_type": "code",
   "execution_count": 42,
   "id": "245952bb",
   "metadata": {},
   "outputs": [
    {
     "data": {
      "text/plain": [
       "5200000.0"
      ]
     },
     "execution_count": 42,
     "metadata": {},
     "output_type": "execute_result"
    }
   ],
   "source": [
    "find_outlier[\"Price\"].quantile(0.25)"
   ]
  },
  {
   "cell_type": "code",
   "execution_count": 43,
   "id": "2a523253",
   "metadata": {},
   "outputs": [
    {
     "data": {
      "text/plain": [
       "6100000.0"
      ]
     },
     "execution_count": 43,
     "metadata": {},
     "output_type": "execute_result"
    }
   ],
   "source": [
    "find_outlier[\"Price\"].median()"
   ]
  },
  {
   "cell_type": "code",
   "execution_count": 44,
   "id": "97418f38",
   "metadata": {},
   "outputs": [
    {
     "data": {
      "text/plain": [
       "7500000.0"
      ]
     },
     "execution_count": 44,
     "metadata": {},
     "output_type": "execute_result"
    }
   ],
   "source": [
    "find_outlier[\"Price\"].quantile(0.75)"
   ]
  },
  {
   "cell_type": "code",
   "execution_count": 45,
   "id": "60d3c2a0",
   "metadata": {},
   "outputs": [
    {
     "data": {
      "text/plain": [
       "22100000"
      ]
     },
     "execution_count": 45,
     "metadata": {},
     "output_type": "execute_result"
    }
   ],
   "source": [
    "find_outlier[\"Price\"].max()"
   ]
  },
  {
   "cell_type": "code",
   "execution_count": 46,
   "id": "82230cdc",
   "metadata": {},
   "outputs": [
    {
     "data": {
      "text/html": [
       "<div>\n",
       "<style scoped>\n",
       "    .dataframe tbody tr th:only-of-type {\n",
       "        vertical-align: middle;\n",
       "    }\n",
       "\n",
       "    .dataframe tbody tr th {\n",
       "        vertical-align: top;\n",
       "    }\n",
       "\n",
       "    .dataframe thead th {\n",
       "        text-align: right;\n",
       "    }\n",
       "</style>\n",
       "<table border=\"1\" class=\"dataframe\">\n",
       "  <thead>\n",
       "    <tr style=\"text-align: right;\">\n",
       "      <th></th>\n",
       "      <th>name</th>\n",
       "      <th>company</th>\n",
       "      <th>year</th>\n",
       "      <th>Price</th>\n",
       "      <th>kms_driven</th>\n",
       "      <th>fuel_type</th>\n",
       "    </tr>\n",
       "  </thead>\n",
       "  <tbody>\n",
       "    <tr>\n",
       "      <th>0</th>\n",
       "      <td>Allion</td>\n",
       "      <td>Toyota</td>\n",
       "      <td>2018</td>\n",
       "      <td>9300000</td>\n",
       "      <td>8000</td>\n",
       "      <td>Petrol</td>\n",
       "    </tr>\n",
       "    <tr>\n",
       "      <th>1</th>\n",
       "      <td>Allion</td>\n",
       "      <td>Toyota</td>\n",
       "      <td>2018</td>\n",
       "      <td>9890000</td>\n",
       "      <td>9875</td>\n",
       "      <td>Petrol</td>\n",
       "    </tr>\n",
       "    <tr>\n",
       "      <th>2</th>\n",
       "      <td>Allion</td>\n",
       "      <td>Toyota</td>\n",
       "      <td>2018</td>\n",
       "      <td>9850000</td>\n",
       "      <td>10907</td>\n",
       "      <td>Petrol</td>\n",
       "    </tr>\n",
       "    <tr>\n",
       "      <th>4</th>\n",
       "      <td>Allion</td>\n",
       "      <td>Toyota</td>\n",
       "      <td>2017</td>\n",
       "      <td>8000000</td>\n",
       "      <td>22300</td>\n",
       "      <td>Petrol</td>\n",
       "    </tr>\n",
       "    <tr>\n",
       "      <th>5</th>\n",
       "      <td>Allion</td>\n",
       "      <td>Toyota</td>\n",
       "      <td>2016</td>\n",
       "      <td>7675000</td>\n",
       "      <td>26000</td>\n",
       "      <td>Petrol</td>\n",
       "    </tr>\n",
       "    <tr>\n",
       "      <th>...</th>\n",
       "      <td>...</td>\n",
       "      <td>...</td>\n",
       "      <td>...</td>\n",
       "      <td>...</td>\n",
       "      <td>...</td>\n",
       "      <td>...</td>\n",
       "    </tr>\n",
       "    <tr>\n",
       "      <th>1255</th>\n",
       "      <td>Tank</td>\n",
       "      <td>Toyota</td>\n",
       "      <td>2018</td>\n",
       "      <td>8790000</td>\n",
       "      <td>36500</td>\n",
       "      <td>Petrol</td>\n",
       "    </tr>\n",
       "    <tr>\n",
       "      <th>1256</th>\n",
       "      <td>Tank</td>\n",
       "      <td>Toyota</td>\n",
       "      <td>2017</td>\n",
       "      <td>7800000</td>\n",
       "      <td>50000</td>\n",
       "      <td>Petrol</td>\n",
       "    </tr>\n",
       "    <tr>\n",
       "      <th>1318</th>\n",
       "      <td>Vitz</td>\n",
       "      <td>Toyota</td>\n",
       "      <td>2019</td>\n",
       "      <td>8790000</td>\n",
       "      <td>1000</td>\n",
       "      <td>Petrol</td>\n",
       "    </tr>\n",
       "    <tr>\n",
       "      <th>1319</th>\n",
       "      <td>Vitz</td>\n",
       "      <td>Toyota</td>\n",
       "      <td>2020</td>\n",
       "      <td>8900000</td>\n",
       "      <td>1300</td>\n",
       "      <td>Petrol</td>\n",
       "    </tr>\n",
       "    <tr>\n",
       "      <th>1341</th>\n",
       "      <td>Vitz</td>\n",
       "      <td>Toyota</td>\n",
       "      <td>2019</td>\n",
       "      <td>8790000</td>\n",
       "      <td>31900</td>\n",
       "      <td>Petrol</td>\n",
       "    </tr>\n",
       "  </tbody>\n",
       "</table>\n",
       "<p>293 rows × 6 columns</p>\n",
       "</div>"
      ],
      "text/plain": [
       "        name company  year    Price  kms_driven fuel_type\n",
       "0     Allion  Toyota  2018  9300000        8000    Petrol\n",
       "1     Allion  Toyota  2018  9890000        9875    Petrol\n",
       "2     Allion  Toyota  2018  9850000       10907    Petrol\n",
       "4     Allion  Toyota  2017  8000000       22300    Petrol\n",
       "5     Allion  Toyota  2016  7675000       26000    Petrol\n",
       "...      ...     ...   ...      ...         ...       ...\n",
       "1255    Tank  Toyota  2018  8790000       36500    Petrol\n",
       "1256    Tank  Toyota  2017  7800000       50000    Petrol\n",
       "1318    Vitz  Toyota  2019  8790000        1000    Petrol\n",
       "1319    Vitz  Toyota  2020  8900000        1300    Petrol\n",
       "1341    Vitz  Toyota  2019  8790000       31900    Petrol\n",
       "\n",
       "[293 rows x 6 columns]"
      ]
     },
     "execution_count": 46,
     "metadata": {},
     "output_type": "execute_result"
    }
   ],
   "source": [
    "find_outlier[find_outlier[\"Price\"] > find_outlier[\"Price\"].quantile(0.75)]"
   ]
  },
  {
   "cell_type": "code",
   "execution_count": 49,
   "id": "e42239d2",
   "metadata": {},
   "outputs": [
    {
     "data": {
      "text/html": [
       "<div>\n",
       "<style scoped>\n",
       "    .dataframe tbody tr th:only-of-type {\n",
       "        vertical-align: middle;\n",
       "    }\n",
       "\n",
       "    .dataframe tbody tr th {\n",
       "        vertical-align: top;\n",
       "    }\n",
       "\n",
       "    .dataframe thead th {\n",
       "        text-align: right;\n",
       "    }\n",
       "</style>\n",
       "<table border=\"1\" class=\"dataframe\">\n",
       "  <thead>\n",
       "    <tr style=\"text-align: right;\">\n",
       "      <th></th>\n",
       "      <th>name</th>\n",
       "      <th>company</th>\n",
       "      <th>year</th>\n",
       "      <th>Price</th>\n",
       "      <th>kms_driven</th>\n",
       "      <th>fuel_type</th>\n",
       "    </tr>\n",
       "  </thead>\n",
       "  <tbody>\n",
       "    <tr>\n",
       "      <th>8</th>\n",
       "      <td>Allion</td>\n",
       "      <td>Toyota</td>\n",
       "      <td>2016</td>\n",
       "      <td>11000000</td>\n",
       "      <td>34000</td>\n",
       "      <td>Petrol</td>\n",
       "    </tr>\n",
       "  </tbody>\n",
       "</table>\n",
       "</div>"
      ],
      "text/plain": [
       "     name company  year     Price  kms_driven fuel_type\n",
       "8  Allion  Toyota  2016  11000000       34000    Petrol"
      ]
     },
     "execution_count": 49,
     "metadata": {},
     "output_type": "execute_result"
    }
   ],
   "source": [
    "outlier = find_outlier[find_outlier[\"Price\"] == 11000000]\n",
    "outlier"
   ]
  },
  {
   "cell_type": "code",
   "execution_count": 50,
   "id": "92211d13",
   "metadata": {},
   "outputs": [],
   "source": [
    "df = df[df[\"Price\"] != 11000000]"
   ]
  },
  {
   "cell_type": "code",
   "execution_count": 51,
   "id": "ac883f30",
   "metadata": {},
   "outputs": [
    {
     "data": {
      "text/html": [
       "<div>\n",
       "<style scoped>\n",
       "    .dataframe tbody tr th:only-of-type {\n",
       "        vertical-align: middle;\n",
       "    }\n",
       "\n",
       "    .dataframe tbody tr th {\n",
       "        vertical-align: top;\n",
       "    }\n",
       "\n",
       "    .dataframe thead th {\n",
       "        text-align: right;\n",
       "    }\n",
       "</style>\n",
       "<table border=\"1\" class=\"dataframe\">\n",
       "  <thead>\n",
       "    <tr style=\"text-align: right;\">\n",
       "      <th></th>\n",
       "      <th>name</th>\n",
       "      <th>company</th>\n",
       "      <th>year</th>\n",
       "      <th>Price</th>\n",
       "      <th>kms_driven</th>\n",
       "      <th>fuel_type</th>\n",
       "    </tr>\n",
       "  </thead>\n",
       "  <tbody>\n",
       "    <tr>\n",
       "      <th>0</th>\n",
       "      <td>Allion</td>\n",
       "      <td>Toyota</td>\n",
       "      <td>2018</td>\n",
       "      <td>9300000</td>\n",
       "      <td>8000</td>\n",
       "      <td>Petrol</td>\n",
       "    </tr>\n",
       "    <tr>\n",
       "      <th>1</th>\n",
       "      <td>Allion</td>\n",
       "      <td>Toyota</td>\n",
       "      <td>2018</td>\n",
       "      <td>9890000</td>\n",
       "      <td>9875</td>\n",
       "      <td>Petrol</td>\n",
       "    </tr>\n",
       "    <tr>\n",
       "      <th>2</th>\n",
       "      <td>Allion</td>\n",
       "      <td>Toyota</td>\n",
       "      <td>2018</td>\n",
       "      <td>9850000</td>\n",
       "      <td>10907</td>\n",
       "      <td>Petrol</td>\n",
       "    </tr>\n",
       "    <tr>\n",
       "      <th>3</th>\n",
       "      <td>Allion</td>\n",
       "      <td>Toyota</td>\n",
       "      <td>2008</td>\n",
       "      <td>4885000</td>\n",
       "      <td>13000</td>\n",
       "      <td>Petrol</td>\n",
       "    </tr>\n",
       "    <tr>\n",
       "      <th>4</th>\n",
       "      <td>Allion</td>\n",
       "      <td>Toyota</td>\n",
       "      <td>2017</td>\n",
       "      <td>8000000</td>\n",
       "      <td>22300</td>\n",
       "      <td>Petrol</td>\n",
       "    </tr>\n",
       "    <tr>\n",
       "      <th>...</th>\n",
       "      <td>...</td>\n",
       "      <td>...</td>\n",
       "      <td>...</td>\n",
       "      <td>...</td>\n",
       "      <td>...</td>\n",
       "      <td>...</td>\n",
       "    </tr>\n",
       "    <tr>\n",
       "      <th>1494</th>\n",
       "      <td>Vitz</td>\n",
       "      <td>Toyota</td>\n",
       "      <td>2008</td>\n",
       "      <td>4550000</td>\n",
       "      <td>114000</td>\n",
       "      <td>Petrol</td>\n",
       "    </tr>\n",
       "    <tr>\n",
       "      <th>1495</th>\n",
       "      <td>Hyundai</td>\n",
       "      <td>Hyundai Accent 2001</td>\n",
       "      <td>2001</td>\n",
       "      <td>1875000</td>\n",
       "      <td>75000</td>\n",
       "      <td>Petrol</td>\n",
       "    </tr>\n",
       "    <tr>\n",
       "      <th>1496</th>\n",
       "      <td>Maruti</td>\n",
       "      <td>Maruti Suzuki Omni</td>\n",
       "      <td>2011</td>\n",
       "      <td>1350000</td>\n",
       "      <td>135582</td>\n",
       "      <td>Petrol</td>\n",
       "    </tr>\n",
       "    <tr>\n",
       "      <th>1497</th>\n",
       "      <td>Datsun</td>\n",
       "      <td>Datsun Go Plus</td>\n",
       "      <td>2017</td>\n",
       "      <td>2750000</td>\n",
       "      <td>90000</td>\n",
       "      <td>Petrol</td>\n",
       "    </tr>\n",
       "    <tr>\n",
       "      <th>1498</th>\n",
       "      <td>Maruti</td>\n",
       "      <td>Maruti Suzuki Wagon</td>\n",
       "      <td>2014</td>\n",
       "      <td>4425000</td>\n",
       "      <td>67000</td>\n",
       "      <td>Petrol</td>\n",
       "    </tr>\n",
       "  </tbody>\n",
       "</table>\n",
       "<p>1498 rows × 6 columns</p>\n",
       "</div>"
      ],
      "text/plain": [
       "         name              company  year    Price  kms_driven fuel_type\n",
       "0      Allion               Toyota  2018  9300000        8000    Petrol\n",
       "1      Allion               Toyota  2018  9890000        9875    Petrol\n",
       "2      Allion               Toyota  2018  9850000       10907    Petrol\n",
       "3      Allion               Toyota  2008  4885000       13000    Petrol\n",
       "4      Allion               Toyota  2017  8000000       22300    Petrol\n",
       "...       ...                  ...   ...      ...         ...       ...\n",
       "1494     Vitz               Toyota  2008  4550000      114000    Petrol\n",
       "1495  Hyundai  Hyundai Accent 2001  2001  1875000       75000    Petrol\n",
       "1496   Maruti   Maruti Suzuki Omni  2011  1350000      135582    Petrol\n",
       "1497   Datsun       Datsun Go Plus  2017  2750000       90000    Petrol\n",
       "1498   Maruti  Maruti Suzuki Wagon  2014  4425000       67000    Petrol\n",
       "\n",
       "[1498 rows x 6 columns]"
      ]
     },
     "execution_count": 51,
     "metadata": {},
     "output_type": "execute_result"
    }
   ],
   "source": [
    "df"
   ]
  },
  {
   "cell_type": "code",
   "execution_count": 52,
   "id": "f8d84b48",
   "metadata": {},
   "outputs": [],
   "source": [
    "df.to_csv(\"Cleaned.csv\", index=False)"
   ]
  },
  {
   "cell_type": "code",
   "execution_count": 53,
   "id": "422de54a",
   "metadata": {},
   "outputs": [],
   "source": [
    "X = df.drop(columns = \"Price\")\n",
    "y = df[\"Price\"]"
   ]
  },
  {
   "cell_type": "code",
   "execution_count": 54,
   "id": "dc06aabd",
   "metadata": {},
   "outputs": [
    {
     "data": {
      "text/html": [
       "<div>\n",
       "<style scoped>\n",
       "    .dataframe tbody tr th:only-of-type {\n",
       "        vertical-align: middle;\n",
       "    }\n",
       "\n",
       "    .dataframe tbody tr th {\n",
       "        vertical-align: top;\n",
       "    }\n",
       "\n",
       "    .dataframe thead th {\n",
       "        text-align: right;\n",
       "    }\n",
       "</style>\n",
       "<table border=\"1\" class=\"dataframe\">\n",
       "  <thead>\n",
       "    <tr style=\"text-align: right;\">\n",
       "      <th></th>\n",
       "      <th>name</th>\n",
       "      <th>company</th>\n",
       "      <th>year</th>\n",
       "      <th>kms_driven</th>\n",
       "      <th>fuel_type</th>\n",
       "    </tr>\n",
       "  </thead>\n",
       "  <tbody>\n",
       "    <tr>\n",
       "      <th>0</th>\n",
       "      <td>Allion</td>\n",
       "      <td>Toyota</td>\n",
       "      <td>2018</td>\n",
       "      <td>8000</td>\n",
       "      <td>Petrol</td>\n",
       "    </tr>\n",
       "    <tr>\n",
       "      <th>1</th>\n",
       "      <td>Allion</td>\n",
       "      <td>Toyota</td>\n",
       "      <td>2018</td>\n",
       "      <td>9875</td>\n",
       "      <td>Petrol</td>\n",
       "    </tr>\n",
       "    <tr>\n",
       "      <th>2</th>\n",
       "      <td>Allion</td>\n",
       "      <td>Toyota</td>\n",
       "      <td>2018</td>\n",
       "      <td>10907</td>\n",
       "      <td>Petrol</td>\n",
       "    </tr>\n",
       "    <tr>\n",
       "      <th>3</th>\n",
       "      <td>Allion</td>\n",
       "      <td>Toyota</td>\n",
       "      <td>2008</td>\n",
       "      <td>13000</td>\n",
       "      <td>Petrol</td>\n",
       "    </tr>\n",
       "    <tr>\n",
       "      <th>4</th>\n",
       "      <td>Allion</td>\n",
       "      <td>Toyota</td>\n",
       "      <td>2017</td>\n",
       "      <td>22300</td>\n",
       "      <td>Petrol</td>\n",
       "    </tr>\n",
       "    <tr>\n",
       "      <th>...</th>\n",
       "      <td>...</td>\n",
       "      <td>...</td>\n",
       "      <td>...</td>\n",
       "      <td>...</td>\n",
       "      <td>...</td>\n",
       "    </tr>\n",
       "    <tr>\n",
       "      <th>1494</th>\n",
       "      <td>Vitz</td>\n",
       "      <td>Toyota</td>\n",
       "      <td>2008</td>\n",
       "      <td>114000</td>\n",
       "      <td>Petrol</td>\n",
       "    </tr>\n",
       "    <tr>\n",
       "      <th>1495</th>\n",
       "      <td>Hyundai</td>\n",
       "      <td>Hyundai Accent 2001</td>\n",
       "      <td>2001</td>\n",
       "      <td>75000</td>\n",
       "      <td>Petrol</td>\n",
       "    </tr>\n",
       "    <tr>\n",
       "      <th>1496</th>\n",
       "      <td>Maruti</td>\n",
       "      <td>Maruti Suzuki Omni</td>\n",
       "      <td>2011</td>\n",
       "      <td>135582</td>\n",
       "      <td>Petrol</td>\n",
       "    </tr>\n",
       "    <tr>\n",
       "      <th>1497</th>\n",
       "      <td>Datsun</td>\n",
       "      <td>Datsun Go Plus</td>\n",
       "      <td>2017</td>\n",
       "      <td>90000</td>\n",
       "      <td>Petrol</td>\n",
       "    </tr>\n",
       "    <tr>\n",
       "      <th>1498</th>\n",
       "      <td>Maruti</td>\n",
       "      <td>Maruti Suzuki Wagon</td>\n",
       "      <td>2014</td>\n",
       "      <td>67000</td>\n",
       "      <td>Petrol</td>\n",
       "    </tr>\n",
       "  </tbody>\n",
       "</table>\n",
       "<p>1498 rows × 5 columns</p>\n",
       "</div>"
      ],
      "text/plain": [
       "         name              company  year  kms_driven fuel_type\n",
       "0      Allion               Toyota  2018        8000    Petrol\n",
       "1      Allion               Toyota  2018        9875    Petrol\n",
       "2      Allion               Toyota  2018       10907    Petrol\n",
       "3      Allion               Toyota  2008       13000    Petrol\n",
       "4      Allion               Toyota  2017       22300    Petrol\n",
       "...       ...                  ...   ...         ...       ...\n",
       "1494     Vitz               Toyota  2008      114000    Petrol\n",
       "1495  Hyundai  Hyundai Accent 2001  2001       75000    Petrol\n",
       "1496   Maruti   Maruti Suzuki Omni  2011      135582    Petrol\n",
       "1497   Datsun       Datsun Go Plus  2017       90000    Petrol\n",
       "1498   Maruti  Maruti Suzuki Wagon  2014       67000    Petrol\n",
       "\n",
       "[1498 rows x 5 columns]"
      ]
     },
     "execution_count": 54,
     "metadata": {},
     "output_type": "execute_result"
    }
   ],
   "source": [
    "X"
   ]
  },
  {
   "cell_type": "code",
   "execution_count": 55,
   "id": "268fcd34",
   "metadata": {},
   "outputs": [
    {
     "data": {
      "text/plain": [
       "0       9300000\n",
       "1       9890000\n",
       "2       9850000\n",
       "3       4885000\n",
       "4       8000000\n",
       "         ...   \n",
       "1494    4550000\n",
       "1495    1875000\n",
       "1496    1350000\n",
       "1497    2750000\n",
       "1498    4425000\n",
       "Name: Price, Length: 1498, dtype: int64"
      ]
     },
     "execution_count": 55,
     "metadata": {},
     "output_type": "execute_result"
    }
   ],
   "source": [
    "y"
   ]
  },
  {
   "cell_type": "code",
   "execution_count": 56,
   "id": "e2474607",
   "metadata": {},
   "outputs": [],
   "source": [
    "X_train, X_test,y_train, y_test = train_test_split(X, y, test_size = 0.1)"
   ]
  },
  {
   "cell_type": "code",
   "execution_count": 57,
   "id": "24096b88",
   "metadata": {},
   "outputs": [
    {
     "data": {
      "text/plain": [
       "OneHotEncoder()"
      ]
     },
     "execution_count": 57,
     "metadata": {},
     "output_type": "execute_result"
    }
   ],
   "source": [
    "ohenc = OneHotEncoder()\n",
    "ohenc.fit(X[['name','company','fuel_type']])"
   ]
  },
  {
   "cell_type": "code",
   "execution_count": 58,
   "id": "3040f479",
   "metadata": {},
   "outputs": [],
   "source": [
    "column_trans = make_column_transformer((OneHotEncoder(categories = ohenc.categories_), ['name','company','fuel_type']), remainder='passthrough')"
   ]
  },
  {
   "cell_type": "code",
   "execution_count": 59,
   "id": "dfab4025",
   "metadata": {},
   "outputs": [],
   "source": [
    "lnregr = LinearRegression()"
   ]
  },
  {
   "cell_type": "code",
   "execution_count": 60,
   "id": "8cf78b76",
   "metadata": {},
   "outputs": [],
   "source": [
    "final = make_pipeline(column_trans, lnregr)"
   ]
  },
  {
   "cell_type": "code",
   "execution_count": 61,
   "id": "be4ace4b",
   "metadata": {},
   "outputs": [
    {
     "data": {
      "text/plain": [
       "Pipeline(steps=[('columntransformer',\n",
       "                 ColumnTransformer(remainder='passthrough',\n",
       "                                   transformers=[('onehotencoder',\n",
       "                                                  OneHotEncoder(categories=[array(['Allion', 'Allion 240', 'Allion 260', 'Aqua', 'Aqua G Grade',\n",
       "       'Aqua G Sport', 'Aqua G grade', 'Aqua S Grade', 'Aqua X Urban',\n",
       "       'Avanza', 'Axio', 'Axio Fielder', 'Axio G Grade', 'Axio WXB',\n",
       "       'Axio X Grade', 'Belta', 'Carina', 'Corolla 110', 'Corol...\n",
       "       'Prius 3rd Generation', 'Prius S Grade', 'Prius S Touring',\n",
       "       'Roomy', 'Soluna', 'Tank', 'Vios', 'Vitz', 'soluna'], dtype=object),\n",
       "                                                                            array(['Datsun Go Plus', 'Hyundai Accent 2001', 'Maruti Suzuki Omni',\n",
       "       'Maruti Suzuki Wagon', 'Toyota'], dtype=object),\n",
       "                                                                            array(['Diesel', 'Electric', 'Hybrid', 'Petrol'], dtype=object)]),\n",
       "                                                  ['name', 'company',\n",
       "                                                   'fuel_type'])])),\n",
       "                ('linearregression', LinearRegression())])"
      ]
     },
     "execution_count": 61,
     "metadata": {},
     "output_type": "execute_result"
    }
   ],
   "source": [
    "final.fit(X_train, y_train)"
   ]
  },
  {
   "cell_type": "code",
   "execution_count": 62,
   "id": "bda48fdb",
   "metadata": {},
   "outputs": [
    {
     "data": {
      "text/plain": [
       "0.847695981462808"
      ]
     },
     "execution_count": 62,
     "metadata": {},
     "output_type": "execute_result"
    }
   ],
   "source": [
    "final.score(X_test, y_test)"
   ]
  },
  {
   "cell_type": "code",
   "execution_count": 63,
   "id": "c042bb2d",
   "metadata": {},
   "outputs": [],
   "source": [
    "y_pred = final.predict(X_test)"
   ]
  },
  {
   "cell_type": "code",
   "execution_count": 64,
   "id": "9a126c92",
   "metadata": {},
   "outputs": [
    {
     "data": {
      "text/plain": [
       "array([ 7620285.71108878,  7924538.00673687,  7785461.39964223,\n",
       "        6002497.8868705 ,  6797836.39028859,  5273316.15140271,\n",
       "        5384930.81851518,  5679587.24032712,  4584652.21648419,\n",
       "        7537538.46887767,  3369749.24162161,  7392591.26514578,\n",
       "        3529453.1419034 ,  7832795.30188668,  6192315.68563688,\n",
       "        5501731.39848232, 11617234.62690794,  3557671.38559544,\n",
       "        3606605.6206249 ,  7219085.52870214,  5554804.94100213,\n",
       "        5718693.4554441 ,  5202194.53438401,  5105403.01582742,\n",
       "        6424331.51629233,  3843837.76442194,  3957631.48640394,\n",
       "        9151757.32177901,  5831009.21277082,  8991409.22500455,\n",
       "        6759236.76760924,  4572418.65772676,  8036677.42112458,\n",
       "        6886639.63547635,  4079967.07397759,  7010077.00272   ,\n",
       "        5360132.18555343,  7854806.72181988, 11512026.02159464,\n",
       "        7282945.89075148,  8102756.085127  ,  4877759.97388816,\n",
       "        6420661.44866514,  7893963.09567344,  6613587.30746865,\n",
       "        6778091.86898506,  7148353.45316541, 12052711.41914427,\n",
       "        6672314.10669529, 10298627.02848995,  5418543.19893229,\n",
       "        5636286.41306889,  5437627.55059373,  6094589.79938638,\n",
       "        6091997.94951463,  6407204.53403199,  6429224.93979526,\n",
       "        3897878.34421527,  7557112.16288948,  5853262.60177505,\n",
       "        3584585.21486163,  4713023.52488637,  4251623.27601838,\n",
       "        8056251.11513638,  6032068.66490591,  3913590.67487752,\n",
       "        7711428.79546618,  7550005.01087618,  8275459.43317878,\n",
       "        5564591.78800797,  7719650.61230612,  7184026.52031577,\n",
       "        6434703.58317018,  6974465.12635052,  7461923.38782322,\n",
       "        6058581.27035546,  6845052.09491193,  7176537.78195679,\n",
       "        6162733.73881066,  5556782.41289043,  5313295.17069066,\n",
       "        4207582.46449184,  6394970.97527468,  7324870.29661286,\n",
       "        3971279.69675946,  6231241.66785181,  4529717.35497999,\n",
       "        7939054.80757678,  2455994.32763553,  5681992.77917206,\n",
       "        4522377.21972561,  3895218.71120286,  3579691.79135871,\n",
       "        6402616.93192446,  5339086.25779021,  4053053.2447114 ,\n",
       "        6353376.87549961,  4584652.21648419,  8176348.42447019,\n",
       "        5610805.81817675,  7866240.49366057,  5394309.06465864,\n",
       "        6726695.50131464, 15997371.48146296,  5855476.33028555,\n",
       "        7444796.40556288,  4260267.82569861,  6221454.82084596,\n",
       "        7036399.62159121,  7096344.05950224,  4539306.9905318 ,\n",
       "        5691779.62617791,  5513964.95723975,  6019624.86913085,\n",
       "        6434940.10040879,  4889440.72792757,  6506924.80684888,\n",
       "        7621764.69553459,  7470486.87895334,  7017282.58200133,\n",
       "        6386009.5885421 ,  8144541.17170095,  8137010.04964769,\n",
       "        7068435.11898386,  7795498.67660177,  8989768.51552439,\n",
       "        5241180.36473191,  5521685.50166667,  5416096.48718083,\n",
       "        6601045.88682663,  6046347.71159804,  5463926.68477643,\n",
       "        9186011.28629959,  5949870.47947109,  3894347.68181932,\n",
       "       11445054.97927022,  5527891.11173594,  7092673.99187505,\n",
       "        7391127.96659398,  6248587.50160885,  7149772.55579507,\n",
       "        7223223.85431838,  8263439.19836223,  6217050.73969328,\n",
       "        5659972.37340879,  3512326.15964305,  3689793.82017493,\n",
       "        3935883.43491316,  5632786.13797331,  7626658.11903751])"
      ]
     },
     "execution_count": 64,
     "metadata": {},
     "output_type": "execute_result"
    }
   ],
   "source": [
    "y_pred"
   ]
  },
  {
   "cell_type": "code",
   "execution_count": 65,
   "id": "7a484d9e",
   "metadata": {},
   "outputs": [
    {
     "data": {
      "text/plain": [
       "0.847695981462808"
      ]
     },
     "execution_count": 65,
     "metadata": {},
     "output_type": "execute_result"
    }
   ],
   "source": [
    "r2_score(y_test, y_pred)"
   ]
  },
  {
   "cell_type": "code",
   "execution_count": 66,
   "id": "e33cf644",
   "metadata": {},
   "outputs": [
    {
     "name": "stdout",
     "output_type": "stream",
     "text": [
      "0.778498136904836\n",
      "0.8600411341190513\n",
      "0.8362055874839817\n",
      "0.8209530865778298\n",
      "0.8491852851753623\n",
      "0.8598937459410623\n",
      "0.887863974969675\n",
      "0.8516680832694452\n",
      "0.86064759816181\n",
      "0.8388100298367549\n"
     ]
    }
   ],
   "source": [
    "for i in range(10):\n",
    "    X_train, X_test, y_train, y_test = train_test_split(X, y, test_size = 0.1)\n",
    "    \n",
    "    lnregr = LinearRegression()\n",
    "    \n",
    "    final = make_pipeline(column_trans, lnregr)\n",
    "    \n",
    "    final.fit(X_train, y_train)\n",
    "    \n",
    "    y_pred = final.predict(X_test)\n",
    "    \n",
    "    print(r2_score(y_test, y_pred))"
   ]
  },
  {
   "cell_type": "code",
   "execution_count": 67,
   "id": "6539f6e9",
   "metadata": {},
   "outputs": [],
   "source": [
    "scores = []\n",
    "for i in range(1000):\n",
    "    X_train, X_test, y_train, y_test = train_test_split(X, y, test_size = 0.1, random_state = i)\n",
    "    \n",
    "    lnregr = LinearRegression()\n",
    "    \n",
    "    final = make_pipeline(column_trans, lnregr)\n",
    "    \n",
    "    final.fit(X_train, y_train)\n",
    "    \n",
    "    y_pred = final.predict(X_test)\n",
    "    \n",
    "    scores.append(r2_score(y_test, y_pred))"
   ]
  },
  {
   "cell_type": "code",
   "execution_count": 68,
   "id": "f10246a5",
   "metadata": {},
   "outputs": [
    {
     "data": {
      "text/plain": [
       "157"
      ]
     },
     "execution_count": 68,
     "metadata": {},
     "output_type": "execute_result"
    }
   ],
   "source": [
    "np.argmax(scores)"
   ]
  },
  {
   "cell_type": "code",
   "execution_count": 71,
   "id": "9df6d316",
   "metadata": {},
   "outputs": [
    {
     "data": {
      "text/plain": [
       "0.908471241197648"
      ]
     },
     "execution_count": 71,
     "metadata": {},
     "output_type": "execute_result"
    }
   ],
   "source": [
    "scores[np.argmax(scores)]"
   ]
  },
  {
   "cell_type": "code",
   "execution_count": 72,
   "id": "cb467b39",
   "metadata": {},
   "outputs": [
    {
     "data": {
      "text/plain": [
       "0.908471241197648"
      ]
     },
     "execution_count": 72,
     "metadata": {},
     "output_type": "execute_result"
    }
   ],
   "source": [
    "X_train, X_test, y_train, y_test = train_test_split(X, y, test_size = 0.1, random_state = np.argmax(scores))\n",
    "    \n",
    "lnregr = LinearRegression()\n",
    "    \n",
    "final = make_pipeline(column_trans, lnregr)\n",
    "    \n",
    "final.fit(X_train, y_train)\n",
    "    \n",
    "y_pred = final.predict(X_test)\n",
    "    \n",
    "r2_score(y_test, y_pred)"
   ]
  },
  {
   "cell_type": "code",
   "execution_count": 73,
   "id": "484751ec",
   "metadata": {},
   "outputs": [
    {
     "data": {
      "text/plain": [
       "676640.04010154"
      ]
     },
     "execution_count": 73,
     "metadata": {},
     "output_type": "execute_result"
    }
   ],
   "source": [
    "np.sqrt(MSE(y_test, y_pred))"
   ]
  },
  {
   "cell_type": "code",
   "execution_count": 74,
   "id": "c96d7cbf",
   "metadata": {},
   "outputs": [
    {
     "data": {
      "text/plain": [
       "array([ 2808657.15682721,  8203738.98336983,  4842448.92357898,\n",
       "        6962942.76279044,  5359160.68154919,  5157972.44629633,\n",
       "        3336072.57063508,  4227813.79839969,  3948322.42825449,\n",
       "        8964095.31892109, 16048031.15967214,  5018072.48422158,\n",
       "        5692270.17811835,  3624119.47968507,  2814937.86177433,\n",
       "        7042491.1732161 ,  5516470.76173282,  5855055.42842507,\n",
       "        5911156.9561938 ,  6215258.06780994,  6340157.98471367,\n",
       "        7717010.8280617 ,  9160876.89662957,  8340800.41960204,\n",
       "        7432318.1823678 ,  4058234.76482844,  6744744.7924093 ,\n",
       "        7404055.01010585,  6001512.99588871,  6039197.22557116,\n",
       "        5238768.18153417,  3848773.06832361,  6050188.45922852,\n",
       "        7267144.31133962,  6868287.58055949,  5392448.41776872,\n",
       "        6890162.32189417,  7288926.94151556,  5543163.7577579 ,\n",
       "        7718445.11710417,  5705738.00823236,  6234100.18265116,\n",
       "        5183675.30041087,  5244262.09098363,  7942872.59298253,\n",
       "        7773125.97088933,  6465806.37600851,  6461529.04811406,\n",
       "        5946871.79883587,  6741604.43993568,  7368145.13860488,\n",
       "        7227974.34954154,  5339419.26232469,  7143924.41619313,\n",
       "        7060770.7715224 ,  6130267.44730389,  5631093.62701702,\n",
       "       11676078.23043227,  5255411.90772557,  5514900.58549595,\n",
       "        6426080.91721821,  7041426.20028543,  5712682.46919644,\n",
       "        4795343.6364758 ,  5380411.44673765,  5562005.87259912,\n",
       "        6001512.99588871,  5955388.12449372,  2185379.09170282,\n",
       "        7523717.43863821,  4451556.94149661,  5992508.51562393,\n",
       "        6935719.18911576,  5420543.70705056,  7321039.85150182,\n",
       "        7938548.90152001,  5279395.72872114,  5096665.52472723,\n",
       "        5589352.72852933,  5689944.11181247,  7642112.93756032,\n",
       "        4188280.10505021, 11785990.56700623,  8318062.81269717,\n",
       "        6480371.1629554 ,  5792761.4572717 ,  7065778.88571584,\n",
       "        3594138.19307208,  3614550.48415005,  5729954.40780091,\n",
       "        4309462.96271169,  6814161.58136487,  5362095.35707653,\n",
       "        8042447.73341858,  8318451.91916478,  7044566.55275893,\n",
       "        6690588.6660012 ,  4572652.07322884,  5373584.72418666,\n",
       "        3547032.9059689 ,  2411484.46979773,  3608417.71731734,\n",
       "        7867504.13361752,  7564542.02079427,  4514363.99096739,\n",
       "        7214945.67373896, 11007286.69948435,  4183848.86377013,\n",
       "        6565124.36401582,  6057411.26991773,  4592872.8028059 ,\n",
       "        5857770.96414363,  7609262.09501398,  7547902.36335409,\n",
       "        4646258.79485619,  8684613.92275715,  7933451.53556192,\n",
       "        5587823.88553715,  3817369.54358816,  5906712.66115379,\n",
       "        5384813.27175033,  5160062.33472657,  5242128.07619464,\n",
       "        5486145.91365731,  4905255.97304976,  5949266.00263131,\n",
       "        5734725.25864387,  6351998.81351542,  5030726.02816796,\n",
       "        3292438.13211751,  6527440.13433325,  3980667.87221229,\n",
       "        5335922.07324493,  5869322.90175021,  6785569.37456536,\n",
       "        6242503.76587033,  2475346.6981436 ,  3913822.76768923,\n",
       "        4079121.45306993, 11650955.41064394,  3884027.10342026,\n",
       "        7107373.60222971,  3572306.29583919,  9808775.05933309,\n",
       "        6382983.92055035, 15699533.93598258,  4029926.66554081,\n",
       "        4565831.58101261,  5641965.52728045, 11709848.97769487])"
      ]
     },
     "execution_count": 74,
     "metadata": {},
     "output_type": "execute_result"
    }
   ],
   "source": [
    "y_pred"
   ]
  },
  {
   "cell_type": "code",
   "execution_count": 75,
   "id": "95da83ea",
   "metadata": {},
   "outputs": [
    {
     "data": {
      "text/plain": [
       "Pipeline(steps=[('columntransformer',\n",
       "                 ColumnTransformer(remainder='passthrough',\n",
       "                                   transformers=[('onehotencoder',\n",
       "                                                  OneHotEncoder(categories=[array(['Allion', 'Allion 240', 'Allion 260', 'Aqua', 'Aqua G Grade',\n",
       "       'Aqua G Sport', 'Aqua G grade', 'Aqua S Grade', 'Aqua X Urban',\n",
       "       'Avanza', 'Axio', 'Axio Fielder', 'Axio G Grade', 'Axio WXB',\n",
       "       'Axio X Grade', 'Belta', 'Carina', 'Corolla 110', 'Corol...\n",
       "       'Prius 3rd Generation', 'Prius S Grade', 'Prius S Touring',\n",
       "       'Roomy', 'Soluna', 'Tank', 'Vios', 'Vitz', 'soluna'], dtype=object),\n",
       "                                                                            array(['Datsun Go Plus', 'Hyundai Accent 2001', 'Maruti Suzuki Omni',\n",
       "       'Maruti Suzuki Wagon', 'Toyota'], dtype=object),\n",
       "                                                                            array(['Diesel', 'Electric', 'Hybrid', 'Petrol'], dtype=object)]),\n",
       "                                                  ['name', 'company',\n",
       "                                                   'fuel_type'])])),\n",
       "                ('linearregression', LinearRegression())])"
      ]
     },
     "execution_count": 75,
     "metadata": {},
     "output_type": "execute_result"
    }
   ],
   "source": [
    "final"
   ]
  },
  {
   "cell_type": "code",
   "execution_count": 76,
   "id": "adacb158",
   "metadata": {},
   "outputs": [],
   "source": [
    "pickle.dump(final, open(\"Price_Prediction.pkl\", \"wb\"))"
   ]
  },
  {
   "cell_type": "code",
   "execution_count": null,
   "id": "ebcc3c9c",
   "metadata": {},
   "outputs": [],
   "source": []
  }
 ],
 "metadata": {
  "kernelspec": {
   "display_name": "Python 3 (ipykernel)",
   "language": "python",
   "name": "python3"
  },
  "language_info": {
   "codemirror_mode": {
    "name": "ipython",
    "version": 3
   },
   "file_extension": ".py",
   "mimetype": "text/x-python",
   "name": "python",
   "nbconvert_exporter": "python",
   "pygments_lexer": "ipython3",
   "version": "3.9.12"
  }
 },
 "nbformat": 4,
 "nbformat_minor": 5
}
